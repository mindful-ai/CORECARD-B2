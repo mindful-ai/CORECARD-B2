{
 "cells": [
  {
   "cell_type": "code",
   "execution_count": null,
   "id": "481d4458",
   "metadata": {},
   "outputs": [],
   "source": [
    "import seaborn as sns"
   ]
  },
  {
   "cell_type": "code",
   "execution_count": null,
   "id": "9ea88a56",
   "metadata": {},
   "outputs": [],
   "source": [
    "# Do this only once in the jupyter notebook if the module is not installed\n",
    "''' %pip install seaborn '''"
   ]
  },
  {
   "cell_type": "code",
   "execution_count": null,
   "id": "8f4717d0",
   "metadata": {},
   "outputs": [],
   "source": [
    "import pandas as pd\n",
    "import numpy as np"
   ]
  },
  {
   "cell_type": "code",
   "execution_count": null,
   "id": "c94ffc38",
   "metadata": {},
   "outputs": [],
   "source": [
    "df = pd.read_csv(\"tips.csv\")\n",
    "df.head()"
   ]
  },
  {
   "cell_type": "markdown",
   "id": "a801638d",
   "metadata": {},
   "source": [
    "#### 1. Bar Plot"
   ]
  },
  {
   "cell_type": "code",
   "execution_count": null,
   "id": "cd8af36d",
   "metadata": {},
   "outputs": [],
   "source": [
    "sns.barplot(data=df, x='gender', y='total_bill')"
   ]
  },
  {
   "cell_type": "code",
   "execution_count": null,
   "id": "0de919ad",
   "metadata": {},
   "outputs": [],
   "source": [
    "sns.barplot(data=df, x='gender', y='total_bill', estimator=np.std)"
   ]
  },
  {
   "cell_type": "markdown",
   "id": "5eaf0326",
   "metadata": {},
   "source": [
    "#### 2. Count Plot"
   ]
  },
  {
   "cell_type": "code",
   "execution_count": null,
   "id": "a0da06bf",
   "metadata": {},
   "outputs": [],
   "source": [
    "sns.countplot(data=df, x='gender')"
   ]
  },
  {
   "cell_type": "code",
   "execution_count": null,
   "id": "076b8ae8",
   "metadata": {},
   "outputs": [],
   "source": [
    "df.groupby('gender').nunique()"
   ]
  },
  {
   "cell_type": "markdown",
   "id": "3ad52d96",
   "metadata": {},
   "source": [
    "#### 3. Box Plot"
   ]
  },
  {
   "cell_type": "code",
   "execution_count": null,
   "id": "e92b9930",
   "metadata": {},
   "outputs": [],
   "source": [
    "df.head()"
   ]
  },
  {
   "cell_type": "code",
   "execution_count": null,
   "id": "0be8f87a",
   "metadata": {},
   "outputs": [],
   "source": [
    "sns.boxplot(data=df, x='gender', y='total_bill')"
   ]
  },
  {
   "cell_type": "code",
   "execution_count": null,
   "id": "b72611bf",
   "metadata": {},
   "outputs": [],
   "source": [
    "sns.boxplot(data=df, x='day', y='total_bill')"
   ]
  },
  {
   "cell_type": "code",
   "execution_count": null,
   "id": "5014d75a",
   "metadata": {},
   "outputs": [],
   "source": [
    "sns.boxplot(data=df, x='day', y='total_bill', hue='gender', palette='coolwarm')"
   ]
  },
  {
   "cell_type": "markdown",
   "id": "11c91ae4",
   "metadata": {},
   "source": [
    "#### 4. Violin Plot"
   ]
  },
  {
   "cell_type": "code",
   "execution_count": null,
   "id": "f2c973f6",
   "metadata": {},
   "outputs": [],
   "source": [
    "sns.violinplot(data=df, x='gender', y='total_bill')"
   ]
  },
  {
   "cell_type": "code",
   "execution_count": null,
   "id": "ef32f318",
   "metadata": {},
   "outputs": [],
   "source": [
    "sns.violinplot(data=df, x='day', y='total_bill', hue='gender')"
   ]
  },
  {
   "cell_type": "code",
   "execution_count": null,
   "id": "55e51c80",
   "metadata": {},
   "outputs": [],
   "source": [
    "sns.violinplot(data=df, x='day', y='total_bill', hue='gender', split=True)"
   ]
  },
  {
   "cell_type": "markdown",
   "id": "e1ae682a",
   "metadata": {},
   "source": [
    "#### 5. Strip Plot"
   ]
  },
  {
   "cell_type": "code",
   "execution_count": null,
   "id": "a1e84cc5",
   "metadata": {},
   "outputs": [],
   "source": [
    "sns.stripplot(data=df, x='day', y='total_bill', hue='gender')"
   ]
  },
  {
   "cell_type": "markdown",
   "id": "31d789a4",
   "metadata": {},
   "source": [
    "#### 6. Swarm Plot"
   ]
  },
  {
   "cell_type": "code",
   "execution_count": null,
   "id": "504343a1",
   "metadata": {},
   "outputs": [],
   "source": [
    "sns.swarmplot(data=df, x='day', y='total_bill', hue='gender')"
   ]
  },
  {
   "cell_type": "markdown",
   "id": "122dcb5a",
   "metadata": {},
   "source": [
    "#### 7. Dist Plot"
   ]
  },
  {
   "cell_type": "code",
   "execution_count": null,
   "id": "c860b4f9",
   "metadata": {},
   "outputs": [],
   "source": [
    "sns.distplot(df['total_bill'])"
   ]
  },
  {
   "cell_type": "code",
   "execution_count": null,
   "id": "4f865d3e",
   "metadata": {},
   "outputs": [],
   "source": [
    "sns.distplot(df['tip'])"
   ]
  },
  {
   "cell_type": "markdown",
   "id": "f01ad912",
   "metadata": {},
   "source": [
    "#### 8. Joint Plot"
   ]
  },
  {
   "cell_type": "code",
   "execution_count": null,
   "id": "dfbce286",
   "metadata": {},
   "outputs": [],
   "source": [
    "sns.jointplot(data=df, x='total_bill', y='tip', kind='scatter')"
   ]
  },
  {
   "cell_type": "code",
   "execution_count": null,
   "id": "b73253ed",
   "metadata": {},
   "outputs": [],
   "source": [
    "sns.jointplot(data=df, x='total_bill', y='tip', kind='hex')"
   ]
  },
  {
   "cell_type": "markdown",
   "id": "106d967f",
   "metadata": {},
   "source": [
    "#### 9. Pair Plot"
   ]
  },
  {
   "cell_type": "code",
   "execution_count": null,
   "id": "c4778036",
   "metadata": {},
   "outputs": [],
   "source": [
    "sns.pairplot(df)"
   ]
  },
  {
   "cell_type": "code",
   "execution_count": null,
   "id": "abd807c8",
   "metadata": {},
   "outputs": [],
   "source": [
    "sns.pairplot(df, hue=\"gender\", palette='viridis')"
   ]
  },
  {
   "cell_type": "markdown",
   "id": "99604c94",
   "metadata": {},
   "source": [
    "#### 10. Heat Map"
   ]
  },
  {
   "cell_type": "code",
   "execution_count": null,
   "id": "4f01a28b",
   "metadata": {},
   "outputs": [],
   "source": [
    "df.corr()"
   ]
  },
  {
   "cell_type": "code",
   "execution_count": null,
   "id": "170404a3",
   "metadata": {},
   "outputs": [],
   "source": [
    "sns.heatmap(df.corr())"
   ]
  },
  {
   "cell_type": "markdown",
   "id": "c9d298a9",
   "metadata": {},
   "source": [
    "#### Question: How many males and females paid more than 30 Dollars?"
   ]
  },
  {
   "cell_type": "code",
   "execution_count": null,
   "id": "0af9ad95",
   "metadata": {},
   "outputs": [],
   "source": []
  }
 ],
 "metadata": {
  "kernelspec": {
   "display_name": "Python 3 (ipykernel)",
   "language": "python",
   "name": "python3"
  },
  "language_info": {
   "codemirror_mode": {
    "name": "ipython",
    "version": 3
   },
   "file_extension": ".py",
   "mimetype": "text/x-python",
   "name": "python",
   "nbconvert_exporter": "python",
   "pygments_lexer": "ipython3",
   "version": "3.9.12"
  }
 },
 "nbformat": 4,
 "nbformat_minor": 5
}
