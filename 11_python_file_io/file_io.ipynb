{
 "cells": [
  {
   "cell_type": "markdown",
   "metadata": {},
   "source": [
    "### Functions for file operations"
   ]
  },
  {
   "cell_type": "raw",
   "metadata": {},
   "source": [
    "open(), close() -> Opening and closing a file\n",
    "read(), readline(), readlines() -> Reading \n",
    "write(), writelines() -> Writing\n",
    "seek(), tell() -> pointer positioning\n",
    "\n",
    "modes \n",
    "\n",
    "r -> read\n",
    "w -> write\n",
    "a -> append\n",
    "b -> binary"
   ]
  },
  {
   "cell_type": "markdown",
   "metadata": {},
   "source": [
    "### Reading a file"
   ]
  },
  {
   "cell_type": "code",
   "execution_count": 1,
   "metadata": {},
   "outputs": [],
   "source": [
    "f = open('song.txt', 'r')"
   ]
  },
  {
   "cell_type": "code",
   "execution_count": 2,
   "metadata": {},
   "outputs": [
    {
     "data": {
      "text/plain": [
       "<_io.TextIOWrapper name='song.txt' mode='r' encoding='cp1252'>"
      ]
     },
     "execution_count": 2,
     "metadata": {},
     "output_type": "execute_result"
    }
   ],
   "source": [
    "f"
   ]
  },
  {
   "cell_type": "code",
   "execution_count": 3,
   "metadata": {},
   "outputs": [
    {
     "data": {
      "text/plain": [
       "'Mushkil yahan tere jany se kya\\nDekha jo nahi tere samne hi tha\\nAb khud hum sahi nahi, dhundein khudmein hi\\nDuniya ajeeb si thi, kisi pe yakeen nahi\\n\\nKitna hareef hai yeh jhoota zamana\\nKitna haseen hai yeh toota gharana\\nChalty huay mein thak gya kya?\\nToti hai yeh sarak par chalty jaana\\n\\nPuchte kahan gya rootha fasana\\nLikhta nhi roz mein bas yehi bahana\\nPuchte yeh sab ke kitna kamaya\\nPr puchte nhi khudko kitna dukhaya\\n\\nMushkil yahan tere jany se kya\\nDekha jo nahi tere samne hi tha\\nAb khud hum sahi nahi, dhundein khudmein yanhi\\nDuniya ajeeb si thi, kisi pe yakeen nahi\\n\\nLeave me Alone, cuz iâ€™m better with mah phone\\nThey been asking for long, why i am gone\\nCuz i feel none, only cuz i am the one\\nCuz iâ€™m not for fun, nearly i am done'"
      ]
     },
     "execution_count": 3,
     "metadata": {},
     "output_type": "execute_result"
    }
   ],
   "source": [
    "f.read()"
   ]
  },
  {
   "cell_type": "code",
   "execution_count": 4,
   "metadata": {},
   "outputs": [
    {
     "data": {
      "text/plain": [
       "''"
      ]
     },
     "execution_count": 4,
     "metadata": {},
     "output_type": "execute_result"
    }
   ],
   "source": [
    "f.read()"
   ]
  },
  {
   "cell_type": "code",
   "execution_count": 5,
   "metadata": {},
   "outputs": [
    {
     "data": {
      "text/plain": [
       "763"
      ]
     },
     "execution_count": 5,
     "metadata": {},
     "output_type": "execute_result"
    }
   ],
   "source": [
    "# The pointer has moved to the end of the file\n",
    "# It needs to be repositioned to the beginning\n",
    "f.tell()"
   ]
  },
  {
   "cell_type": "code",
   "execution_count": 6,
   "metadata": {},
   "outputs": [
    {
     "data": {
      "text/plain": [
       "0"
      ]
     },
     "execution_count": 6,
     "metadata": {},
     "output_type": "execute_result"
    }
   ],
   "source": [
    "f.seek(0) # Reset to the beginning of the file"
   ]
  },
  {
   "cell_type": "code",
   "execution_count": 7,
   "metadata": {},
   "outputs": [],
   "source": [
    "text = f.read()"
   ]
  },
  {
   "cell_type": "code",
   "execution_count": 8,
   "metadata": {},
   "outputs": [
    {
     "data": {
      "text/plain": [
       "str"
      ]
     },
     "execution_count": 8,
     "metadata": {},
     "output_type": "execute_result"
    }
   ],
   "source": [
    "type(text)"
   ]
  },
  {
   "cell_type": "code",
   "execution_count": 9,
   "metadata": {},
   "outputs": [
    {
     "name": "stdout",
     "output_type": "stream",
     "text": [
      "Mushkil yahan tere jany se kya\n",
      "Dekha jo nahi tere samne hi tha\n",
      "Ab khud hum sahi nahi, dhundein khudmein hi\n",
      "Duniya ajeeb si thi, kisi pe yakeen nahi\n",
      "\n",
      "Kitna hareef hai yeh jhoota zamana\n",
      "Kitna haseen hai yeh toota gharana\n",
      "Chalty huay mein thak gya kya?\n",
      "Toti hai yeh sarak par chalty jaana\n",
      "\n",
      "Puchte kahan gya rootha fasana\n",
      "Likhta nhi roz mein bas yehi bahana\n",
      "Puchte yeh sab ke kitna kamaya\n",
      "Pr puchte nhi khudko kitna dukhaya\n",
      "\n",
      "Mushkil yahan tere jany se kya\n",
      "Dekha jo nahi tere samne hi tha\n",
      "Ab khud hum sahi nahi, dhundein khudmein yanhi\n",
      "Duniya ajeeb si thi, kisi pe yakeen nahi\n",
      "\n",
      "Leave me Alone, cuz iâ€™m better with mah phone\n",
      "They been asking for long, why i am gone\n",
      "Cuz i feel none, only cuz i am the one\n",
      "Cuz iâ€™m not for fun, nearly i am done\n"
     ]
    }
   ],
   "source": [
    "print(text)"
   ]
  },
  {
   "cell_type": "code",
   "execution_count": 10,
   "metadata": {},
   "outputs": [
    {
     "data": {
      "text/plain": [
       "0"
      ]
     },
     "execution_count": 10,
     "metadata": {},
     "output_type": "execute_result"
    }
   ],
   "source": [
    "f.seek(0)"
   ]
  },
  {
   "cell_type": "code",
   "execution_count": 11,
   "metadata": {},
   "outputs": [
    {
     "data": {
      "text/plain": [
       "'Mushkil ya'"
      ]
     },
     "execution_count": 11,
     "metadata": {},
     "output_type": "execute_result"
    }
   ],
   "source": [
    "f.read(10) # REad only 10 bytes of data"
   ]
  },
  {
   "cell_type": "code",
   "execution_count": 12,
   "metadata": {},
   "outputs": [
    {
     "data": {
      "text/plain": [
       "'han tere j'"
      ]
     },
     "execution_count": 12,
     "metadata": {},
     "output_type": "execute_result"
    }
   ],
   "source": [
    "f.read(10)"
   ]
  },
  {
   "cell_type": "code",
   "execution_count": 13,
   "metadata": {},
   "outputs": [
    {
     "data": {
      "text/plain": [
       "0"
      ]
     },
     "execution_count": 13,
     "metadata": {},
     "output_type": "execute_result"
    }
   ],
   "source": [
    "f.seek(0)"
   ]
  },
  {
   "cell_type": "code",
   "execution_count": 14,
   "metadata": {},
   "outputs": [
    {
     "data": {
      "text/plain": [
       "'Mushkil yahan tere jany se kya\\n'"
      ]
     },
     "execution_count": 14,
     "metadata": {},
     "output_type": "execute_result"
    }
   ],
   "source": [
    "f.readline() # Read one line at a time"
   ]
  },
  {
   "cell_type": "code",
   "execution_count": 15,
   "metadata": {},
   "outputs": [
    {
     "data": {
      "text/plain": [
       "'Dekha jo nahi tere samne hi tha\\n'"
      ]
     },
     "execution_count": 15,
     "metadata": {},
     "output_type": "execute_result"
    }
   ],
   "source": [
    "f.readline() # Read one line at a time"
   ]
  },
  {
   "cell_type": "code",
   "execution_count": 16,
   "metadata": {},
   "outputs": [
    {
     "data": {
      "text/plain": [
       "'Ab khud hum sahi nahi, dhundein khudmein hi\\n'"
      ]
     },
     "execution_count": 16,
     "metadata": {},
     "output_type": "execute_result"
    }
   ],
   "source": [
    "f.readline() # Read one line at a time"
   ]
  },
  {
   "cell_type": "code",
   "execution_count": 19,
   "metadata": {},
   "outputs": [
    {
     "data": {
      "text/plain": [
       "0"
      ]
     },
     "execution_count": 19,
     "metadata": {},
     "output_type": "execute_result"
    }
   ],
   "source": [
    "f.seek(0)"
   ]
  },
  {
   "cell_type": "code",
   "execution_count": 20,
   "metadata": {},
   "outputs": [],
   "source": [
    "content = f.readlines() # List of lines"
   ]
  },
  {
   "cell_type": "code",
   "execution_count": 21,
   "metadata": {},
   "outputs": [
    {
     "data": {
      "text/plain": [
       "'Dekha jo nahi tere samne hi tha\\n'"
      ]
     },
     "execution_count": 21,
     "metadata": {},
     "output_type": "execute_result"
    }
   ],
   "source": [
    "content[1]"
   ]
  },
  {
   "cell_type": "code",
   "execution_count": 22,
   "metadata": {},
   "outputs": [
    {
     "data": {
      "text/plain": [
       "['Dekha jo nahi tere samne hi tha\\n',\n",
       " 'Ab khud hum sahi nahi, dhundein khudmein hi\\n',\n",
       " 'Duniya ajeeb si thi, kisi pe yakeen nahi\\n',\n",
       " '\\n',\n",
       " 'Kitna hareef hai yeh jhoota zamana\\n',\n",
       " 'Kitna haseen hai yeh toota gharana\\n',\n",
       " 'Chalty huay mein thak gya kya?\\n',\n",
       " 'Toti hai yeh sarak par chalty jaana\\n',\n",
       " '\\n']"
      ]
     },
     "execution_count": 22,
     "metadata": {},
     "output_type": "execute_result"
    }
   ],
   "source": [
    "content[1:10]"
   ]
  },
  {
   "cell_type": "code",
   "execution_count": 23,
   "metadata": {},
   "outputs": [
    {
     "data": {
      "text/plain": [
       "['Cuz iâ€™m not for fun, nearly i am done',\n",
       " 'Cuz i feel none, only cuz i am the one\\n',\n",
       " 'They been asking for long, why i am gone\\n',\n",
       " 'Leave me Alone, cuz iâ€™m better with mah phone\\n',\n",
       " '\\n',\n",
       " 'Duniya ajeeb si thi, kisi pe yakeen nahi\\n',\n",
       " 'Ab khud hum sahi nahi, dhundein khudmein yanhi\\n',\n",
       " 'Dekha jo nahi tere samne hi tha\\n',\n",
       " 'Mushkil yahan tere jany se kya\\n',\n",
       " '\\n',\n",
       " 'Pr puchte nhi khudko kitna dukhaya\\n',\n",
       " 'Puchte yeh sab ke kitna kamaya\\n',\n",
       " 'Likhta nhi roz mein bas yehi bahana\\n',\n",
       " 'Puchte kahan gya rootha fasana\\n',\n",
       " '\\n',\n",
       " 'Toti hai yeh sarak par chalty jaana\\n',\n",
       " 'Chalty huay mein thak gya kya?\\n',\n",
       " 'Kitna haseen hai yeh toota gharana\\n',\n",
       " 'Kitna hareef hai yeh jhoota zamana\\n',\n",
       " '\\n',\n",
       " 'Duniya ajeeb si thi, kisi pe yakeen nahi\\n',\n",
       " 'Ab khud hum sahi nahi, dhundein khudmein hi\\n',\n",
       " 'Dekha jo nahi tere samne hi tha\\n',\n",
       " 'Mushkil yahan tere jany se kya\\n']"
      ]
     },
     "execution_count": 23,
     "metadata": {},
     "output_type": "execute_result"
    }
   ],
   "source": [
    "content[::-1]"
   ]
  },
  {
   "cell_type": "code",
   "execution_count": 24,
   "metadata": {},
   "outputs": [],
   "source": [
    "f.close()"
   ]
  },
  {
   "cell_type": "markdown",
   "metadata": {},
   "source": [
    "### Writing to a file"
   ]
  },
  {
   "cell_type": "code",
   "execution_count": 25,
   "metadata": {},
   "outputs": [],
   "source": [
    "f = open('song2.txt', 'w')"
   ]
  },
  {
   "cell_type": "code",
   "execution_count": 26,
   "metadata": {},
   "outputs": [
    {
     "data": {
      "text/plain": [
       "9"
      ]
     },
     "execution_count": 26,
     "metadata": {},
     "output_type": "execute_result"
    }
   ],
   "source": [
    "f.write(\"Shiddhat\\n\")"
   ]
  },
  {
   "cell_type": "code",
   "execution_count": 27,
   "metadata": {},
   "outputs": [],
   "source": [
    "f.close()"
   ]
  },
  {
   "cell_type": "code",
   "execution_count": null,
   "metadata": {},
   "outputs": [],
   "source": []
  },
  {
   "cell_type": "code",
   "execution_count": null,
   "metadata": {},
   "outputs": [],
   "source": []
  },
  {
   "cell_type": "code",
   "execution_count": 28,
   "metadata": {},
   "outputs": [],
   "source": [
    "c = ['----------------------------------\\n', 'Bollywood Movie\\n\\n']"
   ]
  },
  {
   "cell_type": "code",
   "execution_count": 29,
   "metadata": {},
   "outputs": [],
   "source": [
    "f = open('song2.txt', 'a')"
   ]
  },
  {
   "cell_type": "code",
   "execution_count": 30,
   "metadata": {},
   "outputs": [],
   "source": [
    "f.writelines(c)"
   ]
  },
  {
   "cell_type": "code",
   "execution_count": 31,
   "metadata": {},
   "outputs": [],
   "source": [
    "f.close()"
   ]
  },
  {
   "cell_type": "markdown",
   "metadata": {},
   "source": [
    "### Processing"
   ]
  },
  {
   "cell_type": "code",
   "execution_count": 33,
   "metadata": {},
   "outputs": [
    {
     "data": {
      "text/plain": [
       "'Mushkil yahan tere jany se kya\\nDekha jo nahi tere samne hi tha\\nAb khud hum sahi nahi, dhundein khudmein hi\\nDuniya ajeeb si thi, kisi pe yakeen nahi\\n\\nKitna hareef hai yeh jhoota zamana\\nKitna haseen hai yeh toota gharana\\nChalty huay mein thak gya kya?\\nToti hai yeh sarak par chalty jaana\\n\\nPuchte kahan gya rootha fasana\\nLikhta nhi roz mein bas yehi bahana\\nPuchte yeh sab ke kitna kamaya\\nPr puchte nhi khudko kitna dukhaya\\n\\nMushkil yahan tere jany se kya\\nDekha jo nahi tere samne hi tha\\nAb khud hum sahi nahi, dhundein khudmein yanhi\\nDuniya ajeeb si thi, kisi pe yakeen nahi\\n\\nLeave me Alone, cuz iâ€™m better with mah phone\\nThey been asking for long, why i am gone\\nCuz i feel none, only cuz i am the one\\nCuz iâ€™m not for fun, nearly i am done'"
      ]
     },
     "execution_count": 33,
     "metadata": {},
     "output_type": "execute_result"
    }
   ],
   "source": [
    "text"
   ]
  },
  {
   "cell_type": "code",
   "execution_count": 34,
   "metadata": {},
   "outputs": [
    {
     "data": {
      "text/plain": [
       "2"
      ]
     },
     "execution_count": 34,
     "metadata": {},
     "output_type": "execute_result"
    }
   ],
   "source": [
    "text.count('Mushkil')"
   ]
  },
  {
   "cell_type": "code",
   "execution_count": 36,
   "metadata": {},
   "outputs": [],
   "source": [
    "words = text.split()"
   ]
  },
  {
   "cell_type": "code",
   "execution_count": 37,
   "metadata": {},
   "outputs": [],
   "source": [
    "from collections import Counter"
   ]
  },
  {
   "cell_type": "code",
   "execution_count": 38,
   "metadata": {},
   "outputs": [],
   "source": [
    "z = Counter(words)"
   ]
  },
  {
   "cell_type": "code",
   "execution_count": 39,
   "metadata": {},
   "outputs": [
    {
     "data": {
      "text/plain": [
       "Counter({'Mushkil': 2,\n",
       "         'yahan': 2,\n",
       "         'tere': 4,\n",
       "         'jany': 2,\n",
       "         'se': 2,\n",
       "         'kya': 2,\n",
       "         'Dekha': 2,\n",
       "         'jo': 2,\n",
       "         'nahi': 4,\n",
       "         'samne': 2,\n",
       "         'hi': 3,\n",
       "         'tha': 2,\n",
       "         'Ab': 2,\n",
       "         'khud': 2,\n",
       "         'hum': 2,\n",
       "         'sahi': 2,\n",
       "         'nahi,': 2,\n",
       "         'dhundein': 2,\n",
       "         'khudmein': 2,\n",
       "         'Duniya': 2,\n",
       "         'ajeeb': 2,\n",
       "         'si': 2,\n",
       "         'thi,': 2,\n",
       "         'kisi': 2,\n",
       "         'pe': 2,\n",
       "         'yakeen': 2,\n",
       "         'Kitna': 2,\n",
       "         'hareef': 1,\n",
       "         'hai': 3,\n",
       "         'yeh': 4,\n",
       "         'jhoota': 1,\n",
       "         'zamana': 1,\n",
       "         'haseen': 1,\n",
       "         'toota': 1,\n",
       "         'gharana': 1,\n",
       "         'Chalty': 1,\n",
       "         'huay': 1,\n",
       "         'mein': 2,\n",
       "         'thak': 1,\n",
       "         'gya': 2,\n",
       "         'kya?': 1,\n",
       "         'Toti': 1,\n",
       "         'sarak': 1,\n",
       "         'par': 1,\n",
       "         'chalty': 1,\n",
       "         'jaana': 1,\n",
       "         'Puchte': 2,\n",
       "         'kahan': 1,\n",
       "         'rootha': 1,\n",
       "         'fasana': 1,\n",
       "         'Likhta': 1,\n",
       "         'nhi': 2,\n",
       "         'roz': 1,\n",
       "         'bas': 1,\n",
       "         'yehi': 1,\n",
       "         'bahana': 1,\n",
       "         'sab': 1,\n",
       "         'ke': 1,\n",
       "         'kitna': 2,\n",
       "         'kamaya': 1,\n",
       "         'Pr': 1,\n",
       "         'puchte': 1,\n",
       "         'khudko': 1,\n",
       "         'dukhaya': 1,\n",
       "         'yanhi': 1,\n",
       "         'Leave': 1,\n",
       "         'me': 1,\n",
       "         'Alone,': 1,\n",
       "         'cuz': 2,\n",
       "         'iâ€™m': 2,\n",
       "         'better': 1,\n",
       "         'with': 1,\n",
       "         'mah': 1,\n",
       "         'phone': 1,\n",
       "         'They': 1,\n",
       "         'been': 1,\n",
       "         'asking': 1,\n",
       "         'for': 2,\n",
       "         'long,': 1,\n",
       "         'why': 1,\n",
       "         'i': 4,\n",
       "         'am': 3,\n",
       "         'gone': 1,\n",
       "         'Cuz': 2,\n",
       "         'feel': 1,\n",
       "         'none,': 1,\n",
       "         'only': 1,\n",
       "         'the': 1,\n",
       "         'one': 1,\n",
       "         'not': 1,\n",
       "         'fun,': 1,\n",
       "         'nearly': 1,\n",
       "         'done': 1})"
      ]
     },
     "execution_count": 39,
     "metadata": {},
     "output_type": "execute_result"
    }
   ],
   "source": [
    "z"
   ]
  },
  {
   "cell_type": "code",
   "execution_count": 44,
   "metadata": {},
   "outputs": [
    {
     "name": "stdout",
     "output_type": "stream",
     "text": [
      "Mushkil ---> 2         \n",
      "yahan ---> 2         \n",
      "tere ---> 4         \n",
      "jany ---> 2         \n",
      "se ---> 2         \n",
      "kya ---> 2         \n",
      "Dekha ---> 2         \n",
      "jo ---> 2         \n",
      "nahi ---> 4         \n",
      "samne ---> 2         \n",
      "hi ---> 3         \n",
      "tha ---> 2         \n",
      "Ab ---> 2         \n",
      "khud ---> 2         \n",
      "hum ---> 2         \n",
      "sahi ---> 2         \n",
      "nahi, ---> 2         \n",
      "dhundein ---> 2         \n",
      "khudmein ---> 2         \n",
      "Duniya ---> 2         \n",
      "ajeeb ---> 2         \n",
      "si ---> 2         \n",
      "thi, ---> 2         \n",
      "kisi ---> 2         \n",
      "pe ---> 2         \n",
      "yakeen ---> 2         \n",
      "Kitna ---> 2         \n",
      "hareef ---> 1         \n",
      "hai ---> 3         \n",
      "yeh ---> 4         \n",
      "jhoota ---> 1         \n",
      "zamana ---> 1         \n",
      "haseen ---> 1         \n",
      "toota ---> 1         \n",
      "gharana ---> 1         \n",
      "Chalty ---> 1         \n",
      "huay ---> 1         \n",
      "mein ---> 2         \n",
      "thak ---> 1         \n",
      "gya ---> 2         \n",
      "kya? ---> 1         \n",
      "Toti ---> 1         \n",
      "sarak ---> 1         \n",
      "par ---> 1         \n",
      "chalty ---> 1         \n",
      "jaana ---> 1         \n",
      "Puchte ---> 2         \n",
      "kahan ---> 1         \n",
      "rootha ---> 1         \n",
      "fasana ---> 1         \n",
      "Likhta ---> 1         \n",
      "nhi ---> 2         \n",
      "roz ---> 1         \n",
      "bas ---> 1         \n",
      "yehi ---> 1         \n",
      "bahana ---> 1         \n",
      "sab ---> 1         \n",
      "ke ---> 1         \n",
      "kitna ---> 2         \n",
      "kamaya ---> 1         \n",
      "Pr ---> 1         \n",
      "puchte ---> 1         \n",
      "khudko ---> 1         \n",
      "dukhaya ---> 1         \n",
      "yanhi ---> 1         \n",
      "Leave ---> 1         \n",
      "me ---> 1         \n",
      "Alone, ---> 1         \n",
      "cuz ---> 2         \n",
      "iâ€™m ---> 2         \n",
      "better ---> 1         \n",
      "with ---> 1         \n",
      "mah ---> 1         \n",
      "phone ---> 1         \n",
      "They ---> 1         \n",
      "been ---> 1         \n",
      "asking ---> 1         \n",
      "for ---> 2         \n",
      "long, ---> 1         \n",
      "why ---> 1         \n",
      "i ---> 4         \n",
      "am ---> 3         \n",
      "gone ---> 1         \n",
      "Cuz ---> 2         \n",
      "feel ---> 1         \n",
      "none, ---> 1         \n",
      "only ---> 1         \n",
      "the ---> 1         \n",
      "one ---> 1         \n",
      "not ---> 1         \n",
      "fun, ---> 1         \n",
      "nearly ---> 1         \n",
      "done ---> 1         \n"
     ]
    }
   ],
   "source": [
    "for key, value in z.items():\n",
    "    print(key+ ' ---> ' + str(value).ljust(10))"
   ]
  },
  {
   "cell_type": "code",
   "execution_count": 43,
   "metadata": {},
   "outputs": [],
   "source": [
    "f = open('song2.txt', 'a')\n",
    "for key, value in z.items():\n",
    "    f.write(key.rjust(20) + ' ---> ' + str(value).ljust(10) + '\\n')\n",
    "f.close()"
   ]
  },
  {
   "cell_type": "markdown",
   "metadata": {},
   "source": [
    "### Exercise"
   ]
  },
  {
   "cell_type": "raw",
   "metadata": {},
   "source": [
    "Read the contents of song.txt\n",
    "Calculate the number of charaters in the content\n",
    "Write the information into song2.txt"
   ]
  }
 ],
 "metadata": {
  "kernelspec": {
   "display_name": "Python 3",
   "language": "python",
   "name": "python3"
  },
  "language_info": {
   "codemirror_mode": {
    "name": "ipython",
    "version": 3
   },
   "file_extension": ".py",
   "mimetype": "text/x-python",
   "name": "python",
   "nbconvert_exporter": "python",
   "pygments_lexer": "ipython3",
   "version": "3.7.3"
  }
 },
 "nbformat": 4,
 "nbformat_minor": 2
}
