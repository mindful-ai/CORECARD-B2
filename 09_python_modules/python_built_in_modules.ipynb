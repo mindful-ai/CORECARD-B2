{
 "cells": [
  {
   "cell_type": "code",
   "execution_count": 2,
   "metadata": {},
   "outputs": [
    {
     "name": "stdout",
     "output_type": "stream",
     "text": [
      "Hello Team!\n"
     ]
    }
   ],
   "source": [
    "print(\"Hello Team!\")"
   ]
  },
  {
   "cell_type": "markdown",
   "metadata": {},
   "source": [
    "### 1. The datetime Module"
   ]
  },
  {
   "cell_type": "code",
   "execution_count": 3,
   "metadata": {},
   "outputs": [],
   "source": [
    "from datetime import datetime"
   ]
  },
  {
   "cell_type": "code",
   "execution_count": 4,
   "metadata": {},
   "outputs": [],
   "source": [
    "t = datetime.now()"
   ]
  },
  {
   "cell_type": "code",
   "execution_count": 10,
   "metadata": {},
   "outputs": [
    {
     "data": {
      "text/plain": [
       "datetime.datetime(2022, 7, 5, 19, 50, 49, 331207)"
      ]
     },
     "execution_count": 10,
     "metadata": {},
     "output_type": "execute_result"
    }
   ],
   "source": [
    "t"
   ]
  },
  {
   "cell_type": "code",
   "execution_count": 6,
   "metadata": {},
   "outputs": [
    {
     "data": {
      "text/plain": [
       "(2022, 7, 5)"
      ]
     },
     "execution_count": 6,
     "metadata": {},
     "output_type": "execute_result"
    }
   ],
   "source": [
    "t.year, t.month, t.day"
   ]
  },
  {
   "cell_type": "code",
   "execution_count": 7,
   "metadata": {},
   "outputs": [
    {
     "data": {
      "text/plain": [
       "(19, 50, 49)"
      ]
     },
     "execution_count": 7,
     "metadata": {},
     "output_type": "execute_result"
    }
   ],
   "source": [
    "t.hour, t.minute, t.second"
   ]
  },
  {
   "cell_type": "code",
   "execution_count": 9,
   "metadata": {},
   "outputs": [
    {
     "data": {
      "text/plain": [
       "1"
      ]
     },
     "execution_count": 9,
     "metadata": {},
     "output_type": "execute_result"
    }
   ],
   "source": [
    "t.weekday()"
   ]
  },
  {
   "cell_type": "code",
   "execution_count": 11,
   "metadata": {},
   "outputs": [],
   "source": [
    "# Tuesday, 5 July 2022, 7:55 PM"
   ]
  },
  {
   "cell_type": "code",
   "execution_count": 12,
   "metadata": {},
   "outputs": [],
   "source": [
    "f = \"%A, %d %B %Y, %I:%M %p\""
   ]
  },
  {
   "cell_type": "code",
   "execution_count": 13,
   "metadata": {},
   "outputs": [
    {
     "data": {
      "text/plain": [
       "'Tuesday, 05 July 2022, 07:50 PM'"
      ]
     },
     "execution_count": 13,
     "metadata": {},
     "output_type": "execute_result"
    }
   ],
   "source": [
    "t.strftime(f)"
   ]
  },
  {
   "cell_type": "code",
   "execution_count": 14,
   "metadata": {},
   "outputs": [],
   "source": [
    "t1 = datetime.now()"
   ]
  },
  {
   "cell_type": "code",
   "execution_count": 15,
   "metadata": {},
   "outputs": [
    {
     "data": {
      "text/plain": [
       "datetime.timedelta(seconds=371, microseconds=540181)"
      ]
     },
     "execution_count": 15,
     "metadata": {},
     "output_type": "execute_result"
    }
   ],
   "source": [
    "t1 - t"
   ]
  },
  {
   "cell_type": "markdown",
   "metadata": {},
   "source": [
    "### 2. The functools Module"
   ]
  },
  {
   "cell_type": "code",
   "execution_count": 16,
   "metadata": {},
   "outputs": [],
   "source": [
    "from functools import reduce"
   ]
  },
  {
   "cell_type": "code",
   "execution_count": 17,
   "metadata": {},
   "outputs": [
    {
     "data": {
      "text/plain": [
       "[1, 2, 3, 4, 5, 6, 7, 8, 9, 10]"
      ]
     },
     "execution_count": 17,
     "metadata": {},
     "output_type": "execute_result"
    }
   ],
   "source": [
    "L = list(range(1, 11))\n",
    "L"
   ]
  },
  {
   "cell_type": "code",
   "execution_count": 18,
   "metadata": {},
   "outputs": [
    {
     "data": {
      "text/plain": [
       "55"
      ]
     },
     "execution_count": 18,
     "metadata": {},
     "output_type": "execute_result"
    }
   ],
   "source": [
    "reduce(lambda a, b : a + b, L)"
   ]
  },
  {
   "cell_type": "markdown",
   "metadata": {},
   "source": [
    "### 3. The collections Module"
   ]
  },
  {
   "cell_type": "code",
   "execution_count": 19,
   "metadata": {},
   "outputs": [],
   "source": [
    "L = [\"red\", \"red\", \"green\", \"red\", \"blue\", \"blue\"]"
   ]
  },
  {
   "cell_type": "code",
   "execution_count": 20,
   "metadata": {},
   "outputs": [],
   "source": [
    "D = {}\n",
    "for item in L:\n",
    "    if item in D.keys():\n",
    "        D[item] = D[item] + 1\n",
    "    else:\n",
    "        D[item] = 1"
   ]
  },
  {
   "cell_type": "code",
   "execution_count": 21,
   "metadata": {},
   "outputs": [
    {
     "data": {
      "text/plain": [
       "{'red': 3, 'green': 1, 'blue': 2}"
      ]
     },
     "execution_count": 21,
     "metadata": {},
     "output_type": "execute_result"
    }
   ],
   "source": [
    "D"
   ]
  },
  {
   "cell_type": "code",
   "execution_count": 22,
   "metadata": {},
   "outputs": [
    {
     "name": "stdout",
     "output_type": "stream",
     "text": [
      "Counter({'red': 3, 'blue': 2, 'green': 1})\n"
     ]
    }
   ],
   "source": [
    "from collections import Counter\n",
    "z = Counter(L)\n",
    "print(z)"
   ]
  },
  {
   "cell_type": "markdown",
   "metadata": {},
   "source": [
    "### 4. The operator Module"
   ]
  },
  {
   "cell_type": "code",
   "execution_count": 24,
   "metadata": {},
   "outputs": [],
   "source": [
    "from operator import add"
   ]
  },
  {
   "cell_type": "code",
   "execution_count": 25,
   "metadata": {},
   "outputs": [
    {
     "data": {
      "text/plain": [
       "66"
      ]
     },
     "execution_count": 25,
     "metadata": {},
     "output_type": "execute_result"
    }
   ],
   "source": [
    "10 + 56"
   ]
  },
  {
   "cell_type": "code",
   "execution_count": 26,
   "metadata": {},
   "outputs": [
    {
     "data": {
      "text/plain": [
       "66"
      ]
     },
     "execution_count": 26,
     "metadata": {},
     "output_type": "execute_result"
    }
   ],
   "source": [
    "add(10, 56)"
   ]
  },
  {
   "cell_type": "code",
   "execution_count": 27,
   "metadata": {},
   "outputs": [],
   "source": [
    "from operator import itemgetter"
   ]
  },
  {
   "cell_type": "code",
   "execution_count": 28,
   "metadata": {},
   "outputs": [
    {
     "data": {
      "text/plain": [
       "'p'"
      ]
     },
     "execution_count": 28,
     "metadata": {},
     "output_type": "execute_result"
    }
   ],
   "source": [
    "itemgetter(1)(\"apples\")"
   ]
  },
  {
   "cell_type": "code",
   "execution_count": 29,
   "metadata": {},
   "outputs": [
    {
     "data": {
      "text/plain": [
       "'bananas'"
      ]
     },
     "execution_count": 29,
     "metadata": {},
     "output_type": "execute_result"
    }
   ],
   "source": [
    "itemgetter(1)([\"apples\", \"bananas\", \"cherries\"])"
   ]
  },
  {
   "cell_type": "code",
   "execution_count": 30,
   "metadata": {},
   "outputs": [],
   "source": [
    "L = [\"zebra\", \"giraffe\", \"monkey\", \"ant\", \"chicken\"]"
   ]
  },
  {
   "cell_type": "code",
   "execution_count": 31,
   "metadata": {},
   "outputs": [
    {
     "data": {
      "text/plain": [
       "['ant', 'chicken', 'giraffe', 'monkey', 'zebra']"
      ]
     },
     "execution_count": 31,
     "metadata": {},
     "output_type": "execute_result"
    }
   ],
   "source": [
    "L.sort()\n",
    "L"
   ]
  },
  {
   "cell_type": "code",
   "execution_count": 33,
   "metadata": {},
   "outputs": [
    {
     "data": {
      "text/plain": [
       "'e'"
      ]
     },
     "execution_count": 33,
     "metadata": {},
     "output_type": "execute_result"
    }
   ],
   "source": [
    "itemgetter(-1)(\"giraffe\")"
   ]
  },
  {
   "cell_type": "code",
   "execution_count": 34,
   "metadata": {},
   "outputs": [],
   "source": [
    "L.sort(key=itemgetter(-1))"
   ]
  },
  {
   "cell_type": "code",
   "execution_count": 35,
   "metadata": {},
   "outputs": [
    {
     "data": {
      "text/plain": [
       "['zebra', 'giraffe', 'chicken', 'ant', 'monkey']"
      ]
     },
     "execution_count": 35,
     "metadata": {},
     "output_type": "execute_result"
    }
   ],
   "source": [
    "L"
   ]
  },
  {
   "cell_type": "markdown",
   "metadata": {},
   "source": [
    "### 5. The itertools Module"
   ]
  },
  {
   "cell_type": "code",
   "execution_count": 36,
   "metadata": {},
   "outputs": [],
   "source": [
    "from itertools import permutations, combinations"
   ]
  },
  {
   "cell_type": "code",
   "execution_count": 37,
   "metadata": {},
   "outputs": [],
   "source": [
    "s = 'abcde'"
   ]
  },
  {
   "cell_type": "code",
   "execution_count": 39,
   "metadata": {},
   "outputs": [
    {
     "data": {
      "text/plain": [
       "[('a', 'b', 'c', 'd', 'e'),\n",
       " ('a', 'b', 'c', 'e', 'd'),\n",
       " ('a', 'b', 'd', 'c', 'e'),\n",
       " ('a', 'b', 'd', 'e', 'c'),\n",
       " ('a', 'b', 'e', 'c', 'd'),\n",
       " ('a', 'b', 'e', 'd', 'c'),\n",
       " ('a', 'c', 'b', 'd', 'e'),\n",
       " ('a', 'c', 'b', 'e', 'd'),\n",
       " ('a', 'c', 'd', 'b', 'e'),\n",
       " ('a', 'c', 'd', 'e', 'b'),\n",
       " ('a', 'c', 'e', 'b', 'd'),\n",
       " ('a', 'c', 'e', 'd', 'b'),\n",
       " ('a', 'd', 'b', 'c', 'e'),\n",
       " ('a', 'd', 'b', 'e', 'c'),\n",
       " ('a', 'd', 'c', 'b', 'e'),\n",
       " ('a', 'd', 'c', 'e', 'b'),\n",
       " ('a', 'd', 'e', 'b', 'c'),\n",
       " ('a', 'd', 'e', 'c', 'b'),\n",
       " ('a', 'e', 'b', 'c', 'd'),\n",
       " ('a', 'e', 'b', 'd', 'c'),\n",
       " ('a', 'e', 'c', 'b', 'd'),\n",
       " ('a', 'e', 'c', 'd', 'b'),\n",
       " ('a', 'e', 'd', 'b', 'c'),\n",
       " ('a', 'e', 'd', 'c', 'b'),\n",
       " ('b', 'a', 'c', 'd', 'e'),\n",
       " ('b', 'a', 'c', 'e', 'd'),\n",
       " ('b', 'a', 'd', 'c', 'e'),\n",
       " ('b', 'a', 'd', 'e', 'c'),\n",
       " ('b', 'a', 'e', 'c', 'd'),\n",
       " ('b', 'a', 'e', 'd', 'c'),\n",
       " ('b', 'c', 'a', 'd', 'e'),\n",
       " ('b', 'c', 'a', 'e', 'd'),\n",
       " ('b', 'c', 'd', 'a', 'e'),\n",
       " ('b', 'c', 'd', 'e', 'a'),\n",
       " ('b', 'c', 'e', 'a', 'd'),\n",
       " ('b', 'c', 'e', 'd', 'a'),\n",
       " ('b', 'd', 'a', 'c', 'e'),\n",
       " ('b', 'd', 'a', 'e', 'c'),\n",
       " ('b', 'd', 'c', 'a', 'e'),\n",
       " ('b', 'd', 'c', 'e', 'a'),\n",
       " ('b', 'd', 'e', 'a', 'c'),\n",
       " ('b', 'd', 'e', 'c', 'a'),\n",
       " ('b', 'e', 'a', 'c', 'd'),\n",
       " ('b', 'e', 'a', 'd', 'c'),\n",
       " ('b', 'e', 'c', 'a', 'd'),\n",
       " ('b', 'e', 'c', 'd', 'a'),\n",
       " ('b', 'e', 'd', 'a', 'c'),\n",
       " ('b', 'e', 'd', 'c', 'a'),\n",
       " ('c', 'a', 'b', 'd', 'e'),\n",
       " ('c', 'a', 'b', 'e', 'd'),\n",
       " ('c', 'a', 'd', 'b', 'e'),\n",
       " ('c', 'a', 'd', 'e', 'b'),\n",
       " ('c', 'a', 'e', 'b', 'd'),\n",
       " ('c', 'a', 'e', 'd', 'b'),\n",
       " ('c', 'b', 'a', 'd', 'e'),\n",
       " ('c', 'b', 'a', 'e', 'd'),\n",
       " ('c', 'b', 'd', 'a', 'e'),\n",
       " ('c', 'b', 'd', 'e', 'a'),\n",
       " ('c', 'b', 'e', 'a', 'd'),\n",
       " ('c', 'b', 'e', 'd', 'a'),\n",
       " ('c', 'd', 'a', 'b', 'e'),\n",
       " ('c', 'd', 'a', 'e', 'b'),\n",
       " ('c', 'd', 'b', 'a', 'e'),\n",
       " ('c', 'd', 'b', 'e', 'a'),\n",
       " ('c', 'd', 'e', 'a', 'b'),\n",
       " ('c', 'd', 'e', 'b', 'a'),\n",
       " ('c', 'e', 'a', 'b', 'd'),\n",
       " ('c', 'e', 'a', 'd', 'b'),\n",
       " ('c', 'e', 'b', 'a', 'd'),\n",
       " ('c', 'e', 'b', 'd', 'a'),\n",
       " ('c', 'e', 'd', 'a', 'b'),\n",
       " ('c', 'e', 'd', 'b', 'a'),\n",
       " ('d', 'a', 'b', 'c', 'e'),\n",
       " ('d', 'a', 'b', 'e', 'c'),\n",
       " ('d', 'a', 'c', 'b', 'e'),\n",
       " ('d', 'a', 'c', 'e', 'b'),\n",
       " ('d', 'a', 'e', 'b', 'c'),\n",
       " ('d', 'a', 'e', 'c', 'b'),\n",
       " ('d', 'b', 'a', 'c', 'e'),\n",
       " ('d', 'b', 'a', 'e', 'c'),\n",
       " ('d', 'b', 'c', 'a', 'e'),\n",
       " ('d', 'b', 'c', 'e', 'a'),\n",
       " ('d', 'b', 'e', 'a', 'c'),\n",
       " ('d', 'b', 'e', 'c', 'a'),\n",
       " ('d', 'c', 'a', 'b', 'e'),\n",
       " ('d', 'c', 'a', 'e', 'b'),\n",
       " ('d', 'c', 'b', 'a', 'e'),\n",
       " ('d', 'c', 'b', 'e', 'a'),\n",
       " ('d', 'c', 'e', 'a', 'b'),\n",
       " ('d', 'c', 'e', 'b', 'a'),\n",
       " ('d', 'e', 'a', 'b', 'c'),\n",
       " ('d', 'e', 'a', 'c', 'b'),\n",
       " ('d', 'e', 'b', 'a', 'c'),\n",
       " ('d', 'e', 'b', 'c', 'a'),\n",
       " ('d', 'e', 'c', 'a', 'b'),\n",
       " ('d', 'e', 'c', 'b', 'a'),\n",
       " ('e', 'a', 'b', 'c', 'd'),\n",
       " ('e', 'a', 'b', 'd', 'c'),\n",
       " ('e', 'a', 'c', 'b', 'd'),\n",
       " ('e', 'a', 'c', 'd', 'b'),\n",
       " ('e', 'a', 'd', 'b', 'c'),\n",
       " ('e', 'a', 'd', 'c', 'b'),\n",
       " ('e', 'b', 'a', 'c', 'd'),\n",
       " ('e', 'b', 'a', 'd', 'c'),\n",
       " ('e', 'b', 'c', 'a', 'd'),\n",
       " ('e', 'b', 'c', 'd', 'a'),\n",
       " ('e', 'b', 'd', 'a', 'c'),\n",
       " ('e', 'b', 'd', 'c', 'a'),\n",
       " ('e', 'c', 'a', 'b', 'd'),\n",
       " ('e', 'c', 'a', 'd', 'b'),\n",
       " ('e', 'c', 'b', 'a', 'd'),\n",
       " ('e', 'c', 'b', 'd', 'a'),\n",
       " ('e', 'c', 'd', 'a', 'b'),\n",
       " ('e', 'c', 'd', 'b', 'a'),\n",
       " ('e', 'd', 'a', 'b', 'c'),\n",
       " ('e', 'd', 'a', 'c', 'b'),\n",
       " ('e', 'd', 'b', 'a', 'c'),\n",
       " ('e', 'd', 'b', 'c', 'a'),\n",
       " ('e', 'd', 'c', 'a', 'b'),\n",
       " ('e', 'd', 'c', 'b', 'a')]"
      ]
     },
     "execution_count": 39,
     "metadata": {},
     "output_type": "execute_result"
    }
   ],
   "source": [
    "list(permutations(s))"
   ]
  },
  {
   "cell_type": "code",
   "execution_count": 40,
   "metadata": {},
   "outputs": [
    {
     "data": {
      "text/plain": [
       "['abcde',\n",
       " 'abced',\n",
       " 'abdce',\n",
       " 'abdec',\n",
       " 'abecd',\n",
       " 'abedc',\n",
       " 'acbde',\n",
       " 'acbed',\n",
       " 'acdbe',\n",
       " 'acdeb',\n",
       " 'acebd',\n",
       " 'acedb',\n",
       " 'adbce',\n",
       " 'adbec',\n",
       " 'adcbe',\n",
       " 'adceb',\n",
       " 'adebc',\n",
       " 'adecb',\n",
       " 'aebcd',\n",
       " 'aebdc',\n",
       " 'aecbd',\n",
       " 'aecdb',\n",
       " 'aedbc',\n",
       " 'aedcb',\n",
       " 'bacde',\n",
       " 'baced',\n",
       " 'badce',\n",
       " 'badec',\n",
       " 'baecd',\n",
       " 'baedc',\n",
       " 'bcade',\n",
       " 'bcaed',\n",
       " 'bcdae',\n",
       " 'bcdea',\n",
       " 'bcead',\n",
       " 'bceda',\n",
       " 'bdace',\n",
       " 'bdaec',\n",
       " 'bdcae',\n",
       " 'bdcea',\n",
       " 'bdeac',\n",
       " 'bdeca',\n",
       " 'beacd',\n",
       " 'beadc',\n",
       " 'becad',\n",
       " 'becda',\n",
       " 'bedac',\n",
       " 'bedca',\n",
       " 'cabde',\n",
       " 'cabed',\n",
       " 'cadbe',\n",
       " 'cadeb',\n",
       " 'caebd',\n",
       " 'caedb',\n",
       " 'cbade',\n",
       " 'cbaed',\n",
       " 'cbdae',\n",
       " 'cbdea',\n",
       " 'cbead',\n",
       " 'cbeda',\n",
       " 'cdabe',\n",
       " 'cdaeb',\n",
       " 'cdbae',\n",
       " 'cdbea',\n",
       " 'cdeab',\n",
       " 'cdeba',\n",
       " 'ceabd',\n",
       " 'ceadb',\n",
       " 'cebad',\n",
       " 'cebda',\n",
       " 'cedab',\n",
       " 'cedba',\n",
       " 'dabce',\n",
       " 'dabec',\n",
       " 'dacbe',\n",
       " 'daceb',\n",
       " 'daebc',\n",
       " 'daecb',\n",
       " 'dbace',\n",
       " 'dbaec',\n",
       " 'dbcae',\n",
       " 'dbcea',\n",
       " 'dbeac',\n",
       " 'dbeca',\n",
       " 'dcabe',\n",
       " 'dcaeb',\n",
       " 'dcbae',\n",
       " 'dcbea',\n",
       " 'dceab',\n",
       " 'dceba',\n",
       " 'deabc',\n",
       " 'deacb',\n",
       " 'debac',\n",
       " 'debca',\n",
       " 'decab',\n",
       " 'decba',\n",
       " 'eabcd',\n",
       " 'eabdc',\n",
       " 'eacbd',\n",
       " 'eacdb',\n",
       " 'eadbc',\n",
       " 'eadcb',\n",
       " 'ebacd',\n",
       " 'ebadc',\n",
       " 'ebcad',\n",
       " 'ebcda',\n",
       " 'ebdac',\n",
       " 'ebdca',\n",
       " 'ecabd',\n",
       " 'ecadb',\n",
       " 'ecbad',\n",
       " 'ecbda',\n",
       " 'ecdab',\n",
       " 'ecdba',\n",
       " 'edabc',\n",
       " 'edacb',\n",
       " 'edbac',\n",
       " 'edbca',\n",
       " 'edcab',\n",
       " 'edcba']"
      ]
     },
     "execution_count": 40,
     "metadata": {},
     "output_type": "execute_result"
    }
   ],
   "source": [
    "[''.join(item) for item in list(permutations(s))]"
   ]
  },
  {
   "cell_type": "code",
   "execution_count": 41,
   "metadata": {},
   "outputs": [
    {
     "data": {
      "text/plain": [
       "['abc', 'abd', 'abe', 'acd', 'ace', 'ade', 'bcd', 'bce', 'bde', 'cde']"
      ]
     },
     "execution_count": 41,
     "metadata": {},
     "output_type": "execute_result"
    }
   ],
   "source": [
    "[''.join(item) for item in list(combinations(s, 3))]"
   ]
  },
  {
   "cell_type": "code",
   "execution_count": 42,
   "metadata": {},
   "outputs": [
    {
     "data": {
      "text/plain": [
       "['abc',\n",
       " 'abd',\n",
       " 'abe',\n",
       " 'acb',\n",
       " 'acd',\n",
       " 'ace',\n",
       " 'adb',\n",
       " 'adc',\n",
       " 'ade',\n",
       " 'aeb',\n",
       " 'aec',\n",
       " 'aed',\n",
       " 'bac',\n",
       " 'bad',\n",
       " 'bae',\n",
       " 'bca',\n",
       " 'bcd',\n",
       " 'bce',\n",
       " 'bda',\n",
       " 'bdc',\n",
       " 'bde',\n",
       " 'bea',\n",
       " 'bec',\n",
       " 'bed',\n",
       " 'cab',\n",
       " 'cad',\n",
       " 'cae',\n",
       " 'cba',\n",
       " 'cbd',\n",
       " 'cbe',\n",
       " 'cda',\n",
       " 'cdb',\n",
       " 'cde',\n",
       " 'cea',\n",
       " 'ceb',\n",
       " 'ced',\n",
       " 'dab',\n",
       " 'dac',\n",
       " 'dae',\n",
       " 'dba',\n",
       " 'dbc',\n",
       " 'dbe',\n",
       " 'dca',\n",
       " 'dcb',\n",
       " 'dce',\n",
       " 'dea',\n",
       " 'deb',\n",
       " 'dec',\n",
       " 'eab',\n",
       " 'eac',\n",
       " 'ead',\n",
       " 'eba',\n",
       " 'ebc',\n",
       " 'ebd',\n",
       " 'eca',\n",
       " 'ecb',\n",
       " 'ecd',\n",
       " 'eda',\n",
       " 'edb',\n",
       " 'edc']"
      ]
     },
     "execution_count": 42,
     "metadata": {},
     "output_type": "execute_result"
    }
   ],
   "source": [
    "[''.join(item) for item in list(permutations(s, 3))]"
   ]
  },
  {
   "cell_type": "markdown",
   "metadata": {},
   "source": [
    "### 6. The statistics Module"
   ]
  },
  {
   "cell_type": "code",
   "execution_count": 44,
   "metadata": {},
   "outputs": [],
   "source": [
    "from statistics import mean, median, mode"
   ]
  },
  {
   "cell_type": "code",
   "execution_count": 46,
   "metadata": {},
   "outputs": [
    {
     "data": {
      "text/plain": [
       "[4, 10, 2, 8, 4, 4, 2, 6, 2, 3, 2, 1, 1, 7, 9, 9, 6, 8, 1, 9]"
      ]
     },
     "execution_count": 46,
     "metadata": {},
     "output_type": "execute_result"
    }
   ],
   "source": [
    "import random\n",
    "L = [random.randint(1, 10) for i in range(20)]\n",
    "L"
   ]
  },
  {
   "cell_type": "code",
   "execution_count": 47,
   "metadata": {},
   "outputs": [
    {
     "data": {
      "text/plain": [
       "4.9"
      ]
     },
     "execution_count": 47,
     "metadata": {},
     "output_type": "execute_result"
    }
   ],
   "source": [
    "mean(L)"
   ]
  },
  {
   "cell_type": "code",
   "execution_count": 48,
   "metadata": {},
   "outputs": [
    {
     "data": {
      "text/plain": [
       "4.0"
      ]
     },
     "execution_count": 48,
     "metadata": {},
     "output_type": "execute_result"
    }
   ],
   "source": [
    "median(L)"
   ]
  },
  {
   "cell_type": "code",
   "execution_count": 49,
   "metadata": {},
   "outputs": [
    {
     "data": {
      "text/plain": [
       "2"
      ]
     },
     "execution_count": 49,
     "metadata": {},
     "output_type": "execute_result"
    }
   ],
   "source": [
    "mode(L)"
   ]
  },
  {
   "cell_type": "code",
   "execution_count": 50,
   "metadata": {},
   "outputs": [],
   "source": [
    "import statistics\n"
   ]
  },
  {
   "cell_type": "code",
   "execution_count": 51,
   "metadata": {},
   "outputs": [
    {
     "data": {
      "text/plain": [
       "3.143916431191483"
      ]
     },
     "execution_count": 51,
     "metadata": {},
     "output_type": "execute_result"
    }
   ],
   "source": [
    "statistics.stdev(L)"
   ]
  },
  {
   "cell_type": "code",
   "execution_count": null,
   "metadata": {},
   "outputs": [],
   "source": []
  }
 ],
 "metadata": {
  "kernelspec": {
   "display_name": "Python 3",
   "language": "python",
   "name": "python3"
  },
  "language_info": {
   "codemirror_mode": {
    "name": "ipython",
    "version": 3
   },
   "file_extension": ".py",
   "mimetype": "text/x-python",
   "name": "python",
   "nbconvert_exporter": "python",
   "pygments_lexer": "ipython3",
   "version": "3.7.3"
  }
 },
 "nbformat": 4,
 "nbformat_minor": 2
}
