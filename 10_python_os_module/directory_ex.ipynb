{
 "cells": [
  {
   "cell_type": "markdown",
   "metadata": {},
   "source": [
    "### 1. Folder Organizer"
   ]
  },
  {
   "cell_type": "code",
   "execution_count": 1,
   "metadata": {},
   "outputs": [],
   "source": [
    "import os\n",
    "import os.path\n",
    "import shutil"
   ]
  },
  {
   "cell_type": "code",
   "execution_count": 2,
   "metadata": {},
   "outputs": [
    {
     "data": {
      "text/plain": [
       "'C:\\\\Users\\\\Purushotham\\\\Desktop\\\\corecard\\\\batch-2\\\\10_python_os_module'"
      ]
     },
     "execution_count": 2,
     "metadata": {},
     "output_type": "execute_result"
    }
   ],
   "source": [
    "# Get current working directory\n",
    "os.getcwd()"
   ]
  },
  {
   "cell_type": "code",
   "execution_count": 4,
   "metadata": {},
   "outputs": [
    {
     "data": {
      "text/plain": [
       "'C:\\\\Users\\\\Purushotham\\\\Desktop\\\\corecard\\\\batch-2\\\\10_python_os_module\\\\mydir'"
      ]
     },
     "execution_count": 4,
     "metadata": {},
     "output_type": "execute_result"
    }
   ],
   "source": [
    "path = r\"C:\\Users\\Purushotham\\Desktop\\corecard\\batch-2\\10_python_os_module\\mydir\"\n",
    "os.chdir(path)\n",
    "os.getcwd()"
   ]
  },
  {
   "cell_type": "code",
   "execution_count": 5,
   "metadata": {},
   "outputs": [
    {
     "data": {
      "text/plain": [
       "['data1.txt',\n",
       " 'data1.xlsx',\n",
       " 'data2.txt',\n",
       " 'data2.xlsx',\n",
       " 'data3.txt',\n",
       " 'pres1.pptx',\n",
       " 'pres2.pptx',\n",
       " 'road.jpg',\n",
       " 'sunflower.jpg']"
      ]
     },
     "execution_count": 5,
     "metadata": {},
     "output_type": "execute_result"
    }
   ],
   "source": [
    "os.listdir()"
   ]
  },
  {
   "cell_type": "code",
   "execution_count": 10,
   "metadata": {},
   "outputs": [
    {
     "data": {
      "text/plain": [
       "['data1.txt',\n",
       " 'data1.xlsx',\n",
       " 'data2.txt',\n",
       " 'data2.xlsx',\n",
       " 'data3.txt',\n",
       " 'pres1.pptx',\n",
       " 'pres2.pptx',\n",
       " 'road.jpg',\n",
       " 'sunflower.jpg']"
      ]
     },
     "execution_count": 10,
     "metadata": {},
     "output_type": "execute_result"
    }
   ],
   "source": [
    "# Extract the extentions\n",
    "files = os.listdir()\n",
    "files"
   ]
  },
  {
   "cell_type": "code",
   "execution_count": 18,
   "metadata": {},
   "outputs": [
    {
     "data": {
      "text/plain": [
       "('data1', '.txt')"
      ]
     },
     "execution_count": 18,
     "metadata": {},
     "output_type": "execute_result"
    }
   ],
   "source": [
    "os.path.splitext('data1.txt')"
   ]
  },
  {
   "cell_type": "code",
   "execution_count": 19,
   "metadata": {},
   "outputs": [
    {
     "data": {
      "text/plain": [
       "'.txt'"
      ]
     },
     "execution_count": 19,
     "metadata": {},
     "output_type": "execute_result"
    }
   ],
   "source": [
    "os.path.splitext('data1.txt')[1]"
   ]
  },
  {
   "cell_type": "code",
   "execution_count": 20,
   "metadata": {},
   "outputs": [
    {
     "data": {
      "text/plain": [
       "'txt'"
      ]
     },
     "execution_count": 20,
     "metadata": {},
     "output_type": "execute_result"
    }
   ],
   "source": [
    "os.path.splitext('data1.txt')[1][1:]"
   ]
  },
  {
   "cell_type": "code",
   "execution_count": 17,
   "metadata": {},
   "outputs": [
    {
     "data": {
      "text/plain": [
       "['txt', 'xlsx', 'txt', 'xlsx', 'txt', 'pptx', 'pptx', 'jpg', 'jpg']"
      ]
     },
     "execution_count": 17,
     "metadata": {},
     "output_type": "execute_result"
    }
   ],
   "source": [
    "exts = []\n",
    "for file in files:\n",
    "    exts.append(os.path.splitext(file)[1][1:])\n",
    "exts"
   ]
  },
  {
   "cell_type": "code",
   "execution_count": 21,
   "metadata": {},
   "outputs": [],
   "source": [
    "# Create one folder for each of the extentions\n",
    "for ext in set(exts):\n",
    "    os.mkdir(ext)"
   ]
  },
  {
   "cell_type": "code",
   "execution_count": 22,
   "metadata": {},
   "outputs": [],
   "source": [
    "# Move the files to the respective folders\n",
    "for file in files:\n",
    "    src = file\n",
    "    dest = os.path.splitext(file)[1][1:]\n",
    "    finaldest = os.path.join(dest, src)\n",
    "    shutil.move(src, dest)"
   ]
  },
  {
   "cell_type": "markdown",
   "metadata": {},
   "source": [
    "### 2. Calling a system command"
   ]
  },
  {
   "cell_type": "code",
   "execution_count": 23,
   "metadata": {},
   "outputs": [],
   "source": [
    "import subprocess"
   ]
  },
  {
   "cell_type": "code",
   "execution_count": 24,
   "metadata": {},
   "outputs": [
    {
     "data": {
      "text/plain": [
       "0"
      ]
     },
     "execution_count": 24,
     "metadata": {},
     "output_type": "execute_result"
    }
   ],
   "source": [
    "subprocess.call(\"dir\", shell=True)"
   ]
  },
  {
   "cell_type": "code",
   "execution_count": 26,
   "metadata": {},
   "outputs": [
    {
     "data": {
      "text/plain": [
       "b' Volume in drive C is Windows\\r\\n Volume Serial Number is 68CD-4284\\r\\n\\r\\n Directory of C:\\\\Users\\\\Purushotham\\\\Desktop\\\\corecard\\\\batch-2\\\\10_python_os_module\\\\mydir\\r\\n\\r\\n06-07-2022  20:16    <DIR>          .\\r\\n06-07-2022  20:16    <DIR>          ..\\r\\n06-07-2022  20:16    <DIR>          jpg\\r\\n06-07-2022  20:16    <DIR>          pptx\\r\\n06-07-2022  20:16    <DIR>          txt\\r\\n06-07-2022  20:16    <DIR>          xlsx\\r\\n               0 File(s)              0 bytes\\r\\n               6 Dir(s)  194,619,367,424 bytes free\\r\\n'"
      ]
     },
     "execution_count": 26,
     "metadata": {},
     "output_type": "execute_result"
    }
   ],
   "source": [
    "subprocess.check_output(\"dir\", shell=True)"
   ]
  },
  {
   "cell_type": "code",
   "execution_count": 27,
   "metadata": {},
   "outputs": [],
   "source": [
    "content = subprocess.check_output(\"dir\", shell=True)"
   ]
  },
  {
   "cell_type": "code",
   "execution_count": 28,
   "metadata": {},
   "outputs": [
    {
     "data": {
      "text/plain": [
       "b' Volume in drive C is Windows\\r\\n Volume Serial Number is 68CD-4284\\r\\n\\r\\n Directory of C:\\\\Users\\\\Purushotham\\\\Desktop\\\\corecard\\\\batch-2\\\\10_python_os_module\\\\mydir\\r\\n\\r\\n06-07-2022  20:16    <DIR>          .\\r\\n06-07-2022  20:16    <DIR>          ..\\r\\n06-07-2022  20:16    <DIR>          jpg\\r\\n06-07-2022  20:16    <DIR>          pptx\\r\\n06-07-2022  20:16    <DIR>          txt\\r\\n06-07-2022  20:16    <DIR>          xlsx\\r\\n               0 File(s)              0 bytes\\r\\n               6 Dir(s)  194,619,523,072 bytes free\\r\\n'"
      ]
     },
     "execution_count": 28,
     "metadata": {},
     "output_type": "execute_result"
    }
   ],
   "source": [
    "content"
   ]
  },
  {
   "cell_type": "code",
   "execution_count": 30,
   "metadata": {},
   "outputs": [
    {
     "name": "stdout",
     "output_type": "stream",
     "text": [
      " Volume in drive C is Windows\r\n",
      " Volume Serial Number is 68CD-4284\r\n",
      "\r\n",
      " Directory of C:\\Users\\Purushotham\\Desktop\\corecard\\batch-2\\10_python_os_module\\mydir\r\n",
      "\r\n",
      "06-07-2022  20:16    <DIR>          .\r\n",
      "06-07-2022  20:16    <DIR>          ..\r\n",
      "06-07-2022  20:16    <DIR>          jpg\r\n",
      "06-07-2022  20:16    <DIR>          pptx\r\n",
      "06-07-2022  20:16    <DIR>          txt\r\n",
      "06-07-2022  20:16    <DIR>          xlsx\r\n",
      "               0 File(s)              0 bytes\r\n",
      "               6 Dir(s)  194,619,523,072 bytes free\r\n",
      "\n"
     ]
    }
   ],
   "source": [
    "print(content.decode())"
   ]
  },
  {
   "cell_type": "code",
   "execution_count": null,
   "metadata": {},
   "outputs": [],
   "source": []
  }
 ],
 "metadata": {
  "kernelspec": {
   "display_name": "Python 3",
   "language": "python",
   "name": "python3"
  },
  "language_info": {
   "codemirror_mode": {
    "name": "ipython",
    "version": 3
   },
   "file_extension": ".py",
   "mimetype": "text/x-python",
   "name": "python",
   "nbconvert_exporter": "python",
   "pygments_lexer": "ipython3",
   "version": "3.7.3"
  }
 },
 "nbformat": 4,
 "nbformat_minor": 2
}
