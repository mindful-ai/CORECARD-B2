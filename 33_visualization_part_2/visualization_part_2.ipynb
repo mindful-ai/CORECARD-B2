{
 "cells": [
  {
   "cell_type": "code",
   "execution_count": null,
   "id": "e95a6854",
   "metadata": {},
   "outputs": [],
   "source": [
    "import matplotlib.pyplot as plt\n",
    "import numpy as np"
   ]
  },
  {
   "cell_type": "markdown",
   "id": "bef4004c",
   "metadata": {},
   "source": [
    "#### 1. Bar Graph"
   ]
  },
  {
   "cell_type": "code",
   "execution_count": null,
   "id": "9730ff58",
   "metadata": {},
   "outputs": [],
   "source": [
    "x = list(range(1, 11))\n",
    "x"
   ]
  },
  {
   "cell_type": "code",
   "execution_count": null,
   "id": "90482ad6",
   "metadata": {},
   "outputs": [],
   "source": [
    "import random\n",
    "y = [random.randint(1,100) for i in x]\n",
    "y"
   ]
  },
  {
   "cell_type": "code",
   "execution_count": null,
   "id": "f10943fa",
   "metadata": {},
   "outputs": [],
   "source": [
    "plt.bar(x, y, color='r')"
   ]
  },
  {
   "cell_type": "markdown",
   "id": "da6472a8",
   "metadata": {},
   "source": [
    "#### 2. Scatter Plot"
   ]
  },
  {
   "cell_type": "code",
   "execution_count": null,
   "id": "7dc0db5c",
   "metadata": {},
   "outputs": [],
   "source": [
    "x = np.linspace(0, 5, 11)\n",
    "y = x ** 2"
   ]
  },
  {
   "cell_type": "code",
   "execution_count": null,
   "id": "a060e06d",
   "metadata": {},
   "outputs": [],
   "source": [
    "plt.scatter(x, y, color='b')"
   ]
  },
  {
   "cell_type": "code",
   "execution_count": null,
   "id": "cb8e8835",
   "metadata": {},
   "outputs": [],
   "source": [
    "y = [random.randint(1, 25) for i in x]"
   ]
  },
  {
   "cell_type": "code",
   "execution_count": null,
   "id": "c3af0917",
   "metadata": {},
   "outputs": [],
   "source": [
    "plt.scatter(x, y)"
   ]
  },
  {
   "cell_type": "markdown",
   "id": "d9f2d7d0",
   "metadata": {},
   "source": [
    "#### 3. Pie Chart"
   ]
  },
  {
   "cell_type": "code",
   "execution_count": null,
   "id": "e2d3a611",
   "metadata": {},
   "outputs": [],
   "source": [
    "labels = 'Cars', 'Busses', 'Trains', 'Lorries'\n",
    "sizes = [15, 30, 45, 10]\n",
    "explode = (0, 0.1, 0, 0)  # only \"explode\" the 2nd slice (i.e. 'Hogs')"
   ]
  },
  {
   "cell_type": "code",
   "execution_count": null,
   "id": "55f08462",
   "metadata": {},
   "outputs": [],
   "source": [
    "plt.bar(labels, sizes)"
   ]
  },
  {
   "cell_type": "code",
   "execution_count": null,
   "id": "857fbb69",
   "metadata": {},
   "outputs": [],
   "source": [
    "f, ax = plt.subplots()\n",
    "ax.pie(sizes, explode=explode, labels=labels, startangle=90)\n",
    "plt.show()"
   ]
  },
  {
   "cell_type": "code",
   "execution_count": null,
   "id": "75291108",
   "metadata": {},
   "outputs": [],
   "source": [
    "fig, ax = plt.subplots()\n",
    "\n",
    "size = 0.4\n",
    "vals = np.array([[60., 32.], [37., 40.], [29., 10.]])\n",
    "\n",
    "cmap = plt.get_cmap(\"tab20c\")\n",
    "outer_colors = cmap(np.arange(3)*4)\n",
    "inner_colors = cmap([1, 2, 5, 6, 9, 10])\n",
    "\n",
    "ax.pie(vals.sum(axis=1), radius=1, colors=outer_colors, wedgeprops=dict(width=0.4, edgecolor='w'))\n",
    "ax.pie(vals.flatten(), radius=1-size, colors=inner_colors, wedgeprops=dict(width=size, edgecolor='w'))\n",
    "\n",
    "ax.set(aspect=\"equal\", title='Donut Chart')\n",
    "plt.show()"
   ]
  },
  {
   "cell_type": "markdown",
   "id": "bdf80393",
   "metadata": {},
   "source": [
    "#### 4. Histograms"
   ]
  },
  {
   "cell_type": "code",
   "execution_count": null,
   "id": "55e8332d",
   "metadata": {},
   "outputs": [],
   "source": [
    "data = [random.randint(1, 100) for i in range(1000)]\n",
    "x = list(range(1000))"
   ]
  },
  {
   "cell_type": "code",
   "execution_count": null,
   "id": "8f067ffb",
   "metadata": {},
   "outputs": [],
   "source": [
    "plt.bar(x, data, color='g')"
   ]
  },
  {
   "cell_type": "code",
   "execution_count": null,
   "id": "2df8240e",
   "metadata": {},
   "outputs": [],
   "source": [
    "plt.hist(data, bins=25)"
   ]
  },
  {
   "cell_type": "code",
   "execution_count": null,
   "id": "b361f2e4",
   "metadata": {},
   "outputs": [],
   "source": [
    "np.random.seed(19680801)\n",
    "\n",
    "n_bins = 10\n",
    "x = np.random.randn(1000, 3)\n",
    "\n",
    "fig, ((ax0, ax1), (ax2, ax3)) = plt.subplots(nrows=2, ncols=2)\n",
    "\n",
    "colors = ['red', 'tan', 'lime']\n",
    "ax0.hist(x, n_bins, density=True, histtype='bar', color=colors, label=colors)\n",
    "ax0.legend(prop={'size': 10})\n",
    "ax0.set_title('bars with legend')\n",
    "\n",
    "ax1.hist(x, n_bins, density=True, histtype='bar', stacked=True)\n",
    "ax1.set_title('stacked bar')\n",
    "\n",
    "ax2.hist(x, n_bins, histtype='step', stacked=True, fill=False)\n",
    "ax2.set_title('stack step (unfilled)')\n",
    "\n",
    "# Make a multiple-histogram of data-sets with different length.\n",
    "x_multi = [np.random.randn(n) for n in [10000, 5000, 2000]]\n",
    "ax3.hist(x_multi, n_bins, histtype='bar')\n",
    "ax3.set_title('different sample sizes')\n",
    "\n",
    "fig.tight_layout()\n",
    "plt.show()"
   ]
  },
  {
   "cell_type": "markdown",
   "id": "d165d93e",
   "metadata": {},
   "source": [
    "#### 5. Box and Whisker Plots"
   ]
  },
  {
   "cell_type": "code",
   "execution_count": null,
   "id": "586a02a7",
   "metadata": {},
   "outputs": [],
   "source": [
    "data_1 = np.random.normal(100, 10, 200)\n",
    "data_2 = np.random.normal(90, 20, 200)\n",
    "data_3 = np.random.normal(80, 30, 200)\n",
    "data_4 = np.random.normal(70, 40, 200)"
   ]
  },
  {
   "cell_type": "code",
   "execution_count": null,
   "id": "ade81030",
   "metadata": {},
   "outputs": [],
   "source": [
    "x = list(range(200))"
   ]
  },
  {
   "cell_type": "code",
   "execution_count": null,
   "id": "3b8679d4",
   "metadata": {},
   "outputs": [],
   "source": [
    "plt.plot(x, data_1)\n",
    "plt.plot(x, data_2)\n",
    "plt.plot(x, data_3)\n",
    "plt.plot(x, data_4)"
   ]
  },
  {
   "cell_type": "code",
   "execution_count": null,
   "id": "928dcc59",
   "metadata": {},
   "outputs": [],
   "source": [
    "fig = plt.figure(figsize=(10, 7))\n",
    "ax = fig.add_axes([0,0,1,1])\n",
    "data = [data_1, data_2, data_3, data_4]\n",
    "ax.boxplot(data)"
   ]
  },
  {
   "cell_type": "code",
   "execution_count": null,
   "id": "dfcbfc26",
   "metadata": {},
   "outputs": [],
   "source": [
    "data_1.sort()\n",
    "data_1"
   ]
  },
  {
   "cell_type": "markdown",
   "id": "0ec74594",
   "metadata": {},
   "source": [
    "#### 6. Heat Map"
   ]
  },
  {
   "cell_type": "code",
   "execution_count": 45,
   "id": "a6d3ab63",
   "metadata": {},
   "outputs": [],
   "source": [
    "vegetables = [\"cucumber\", \"tomato\", \"lettuce\", \"asparagus\",\n",
    "              \"potato\", \"wheat\", \"barley\"]\n",
    "farmers = [\"Farmer Joe\", \"Upland Bros.\", \"Smith Gardening\",\n",
    "           \"Agrifun\", \"Organiculture\", \"BioGoods Ltd.\", \"Cornylee Corp.\"]\n",
    "\n",
    "harvest = np.array([[0.8, 2.4, 2.5, 3.9, 0.0, 4.0, 0.0],\n",
    "                    [2.4, 0.0, 4.0, 1.0, 2.7, 0.0, 0.0],\n",
    "                    [1.1, 2.4, 0.8, 4.3, 1.9, 4.4, 0.0],\n",
    "                    [0.6, 0.0, 0.3, 0.0, 3.1, 0.0, 0.0],\n",
    "                    [0.7, 1.7, 0.6, 2.6, 2.2, 6.2, 0.0],\n",
    "                    [1.3, 1.2, 0.0, 0.0, 0.0, 3.2, 5.1],\n",
    "                    [0.1, 2.0, 0.0, 1.4, 0.0, 1.9, 6.3]])"
   ]
  },
  {
   "cell_type": "code",
   "execution_count": 49,
   "id": "897d0194",
   "metadata": {},
   "outputs": [
    {
     "data": {
      "image/png": "[encoded data removed]",
      "text/plain": [
       "<Figure size 432x288 with 1 Axes>"
      ]
     },
     "metadata": {
      "needs_background": "light"
     },
     "output_type": "display_data"
    }
   ],
   "source": [
    "fig, ax = plt.subplots()\n",
    "im = ax.imshow(harvest, cmap='Pastel1')"
   ]
  },
  {
   "cell_type": "code",
   "execution_count": null,
   "id": "ebefec4f",
   "metadata": {},
   "outputs": [],
   "source": []
  }
 ],
 "metadata": {
  "kernelspec": {
   "display_name": "Python 3 (ipykernel)",
   "language": "python",
   "name": "python3"
  },
  "language_info": {
   "codemirror_mode": {
    "name": "ipython",
    "version": 3
   },
   "file_extension": ".py",
   "mimetype": "text/x-python",
   "name": "python",
   "nbconvert_exporter": "python",
   "pygments_lexer": "ipython3",
   "version": "3.9.12"
  }
 },
 "nbformat": 4,
 "nbformat_minor": 5
}
