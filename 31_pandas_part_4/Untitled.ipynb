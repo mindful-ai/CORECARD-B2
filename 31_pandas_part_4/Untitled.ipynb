{
 "cells": [
  {
   "cell_type": "code",
   "execution_count": null,
   "id": "c970b899",
   "metadata": {},
   "outputs": [],
   "source": [
    "import pandas as pd\n",
    "import numpy as np"
   ]
  },
  {
   "cell_type": "markdown",
   "id": "2f5a6fcc",
   "metadata": {},
   "source": [
    "### 1. How to handle duplicate entries?"
   ]
  },
  {
   "cell_type": "code",
   "execution_count": null,
   "id": "f34d2c8b",
   "metadata": {},
   "outputs": [],
   "source": [
    "data = pd.DataFrame({'k1': ['one', 'two'] * 3 + ['two'],\n",
    "                     'k2': [1, 1, 2, 3, 3, 4, 4]})\n",
    "data"
   ]
  },
  {
   "cell_type": "code",
   "execution_count": null,
   "id": "158bae94",
   "metadata": {},
   "outputs": [],
   "source": [
    "data.duplicated()"
   ]
  },
  {
   "cell_type": "code",
   "execution_count": null,
   "id": "149a0793",
   "metadata": {},
   "outputs": [],
   "source": [
    "sum(data.duplicated())"
   ]
  },
  {
   "cell_type": "code",
   "execution_count": null,
   "id": "ac1b4806",
   "metadata": {},
   "outputs": [],
   "source": [
    "data.drop_duplicates()"
   ]
  },
  {
   "cell_type": "code",
   "execution_count": null,
   "id": "8041cb95",
   "metadata": {},
   "outputs": [],
   "source": [
    "data"
   ]
  },
  {
   "cell_type": "code",
   "execution_count": null,
   "id": "ac53e409",
   "metadata": {},
   "outputs": [],
   "source": [
    "data['v1'] = [1, 1, 3, 5, 6, 2, 7]\n",
    "data"
   ]
  },
  {
   "cell_type": "code",
   "execution_count": null,
   "id": "de329b19",
   "metadata": {},
   "outputs": [],
   "source": [
    "data.duplicated(['k2', 'v1'])"
   ]
  },
  {
   "cell_type": "code",
   "execution_count": null,
   "id": "fc1d6da7",
   "metadata": {},
   "outputs": [],
   "source": [
    "data.drop_duplicates(['k1'])"
   ]
  },
  {
   "cell_type": "code",
   "execution_count": null,
   "id": "edfa96ed",
   "metadata": {},
   "outputs": [],
   "source": [
    "data.drop_duplicates(['k1', 'k2'])"
   ]
  },
  {
   "cell_type": "code",
   "execution_count": null,
   "id": "92e7b70c",
   "metadata": {},
   "outputs": [],
   "source": [
    "data.drop_duplicates(['k1', 'k2'], keep='last')"
   ]
  },
  {
   "cell_type": "markdown",
   "id": "669fbe6a",
   "metadata": {},
   "source": [
    "### 2. Transforming values with a technique called mapping"
   ]
  },
  {
   "cell_type": "code",
   "execution_count": null,
   "id": "eee2762f",
   "metadata": {},
   "outputs": [],
   "source": [
    "data = pd.DataFrame({'food': ['bacon', 'pulled pork', 'bacon',\n",
    "                              'Pastrami', 'corned beef', 'Bacon',\n",
    "                              'pastrami', 'honey ham', 'nova lox'],\n",
    "                     'ounces': [4, 3, 12, 6, 7.5, 8, 3, 5, 6]})\n",
    "data"
   ]
  },
  {
   "cell_type": "code",
   "execution_count": null,
   "id": "7d78b6f6",
   "metadata": {},
   "outputs": [],
   "source": [
    "meat_to_animal = {\n",
    "  'bacon': 'pig',\n",
    "  'pulled pork': 'pig',\n",
    "  'pastrami': 'cow',\n",
    "  'corned beef': 'cow',\n",
    "  'honey ham': 'pig',\n",
    "  'nova lox': 'salmon'\n",
    "}"
   ]
  },
  {
   "cell_type": "code",
   "execution_count": null,
   "id": "8b8b6c99",
   "metadata": {},
   "outputs": [],
   "source": [
    "lowercased = data['food'].str.lower()\n",
    "lowercased"
   ]
  },
  {
   "cell_type": "code",
   "execution_count": null,
   "id": "36e0abae",
   "metadata": {},
   "outputs": [],
   "source": [
    "data['food'] = lowercased\n",
    "data"
   ]
  },
  {
   "cell_type": "code",
   "execution_count": null,
   "id": "b6624b44",
   "metadata": {},
   "outputs": [],
   "source": [
    "data['animal'] = lowercased.map(meat_to_animal)\n",
    "data"
   ]
  },
  {
   "cell_type": "markdown",
   "id": "be1dcc7a",
   "metadata": {},
   "source": [
    "### 3. Replacing values"
   ]
  },
  {
   "cell_type": "code",
   "execution_count": null,
   "id": "52150c4a",
   "metadata": {},
   "outputs": [],
   "source": [
    "data = pd.Series([1., -999., 2., -999., -1000., 3.])\n",
    "data"
   ]
  },
  {
   "cell_type": "code",
   "execution_count": null,
   "id": "38853305",
   "metadata": {},
   "outputs": [],
   "source": [
    "data.replace(-999, 999)"
   ]
  },
  {
   "cell_type": "code",
   "execution_count": null,
   "id": "31da18ad",
   "metadata": {},
   "outputs": [],
   "source": [
    "data.replace([-999, -1000], 999)"
   ]
  },
  {
   "cell_type": "code",
   "execution_count": null,
   "id": "e180c3b2",
   "metadata": {},
   "outputs": [],
   "source": [
    "data.replace([-999, -1000], [999, 1000])"
   ]
  },
  {
   "cell_type": "markdown",
   "id": "1b416365",
   "metadata": {},
   "source": [
    "### 4. Axis Renaming"
   ]
  },
  {
   "cell_type": "code",
   "execution_count": null,
   "id": "69006b8f",
   "metadata": {},
   "outputs": [],
   "source": [
    "data = pd.DataFrame(np.arange(12).reshape((3, 4)),\n",
    "                    index=['Ohio', 'Colorado', 'New York'],\n",
    "                    columns=['one', 'two', 'three', 'four'])\n",
    "data"
   ]
  },
  {
   "cell_type": "code",
   "execution_count": null,
   "id": "21d4a5c0",
   "metadata": {},
   "outputs": [],
   "source": [
    "data.index"
   ]
  },
  {
   "cell_type": "code",
   "execution_count": null,
   "id": "3953ae48",
   "metadata": {},
   "outputs": [],
   "source": [
    "data.columns"
   ]
  },
  {
   "cell_type": "code",
   "execution_count": null,
   "id": "285c54a5",
   "metadata": {},
   "outputs": [],
   "source": [
    "data.index = data.index.map(lambda x : x.upper())\n",
    "data"
   ]
  },
  {
   "cell_type": "code",
   "execution_count": null,
   "id": "06642932",
   "metadata": {},
   "outputs": [],
   "source": [
    "data = pd.DataFrame(np.arange(12).reshape((3, 4)),\n",
    "                    index=['Ohio', 'Colorado', 'New York'],\n",
    "                    columns=['one', 'two', 'three', 'four'])\n",
    "data"
   ]
  },
  {
   "cell_type": "code",
   "execution_count": null,
   "id": "5105e928",
   "metadata": {},
   "outputs": [],
   "source": [
    "d0 = data.rename(columns=str.upper)\n",
    "d0 "
   ]
  },
  {
   "cell_type": "code",
   "execution_count": null,
   "id": "38689050",
   "metadata": {},
   "outputs": [],
   "source": [
    "d1 = data.rename(index={'Ohio': 'California'}, columns={'one':1, 'two':2, 'three':3, 'four':4})\n",
    "d1"
   ]
  },
  {
   "cell_type": "code",
   "execution_count": null,
   "id": "e442a2b2",
   "metadata": {},
   "outputs": [],
   "source": [
    "data.columns = ('a', 'b', 'c', 'd')\n",
    "data"
   ]
  },
  {
   "cell_type": "markdown",
   "id": "130ec500",
   "metadata": {},
   "source": [
    "### 5. Discreetization and Binning"
   ]
  },
  {
   "cell_type": "code",
   "execution_count": null,
   "id": "df55be7d",
   "metadata": {},
   "outputs": [],
   "source": [
    "ages = [20, 22, 25, 27, 21, 23, 37, 31, 61, 45, 41, 32]\n",
    "bins = [18, 25, 35, 60, 100]"
   ]
  },
  {
   "cell_type": "code",
   "execution_count": null,
   "id": "e2aac762",
   "metadata": {},
   "outputs": [],
   "source": [
    "cats = pd.cut(ages, bins)\n",
    "cats"
   ]
  },
  {
   "cell_type": "code",
   "execution_count": null,
   "id": "562030ae",
   "metadata": {},
   "outputs": [],
   "source": [
    "cats.codes"
   ]
  },
  {
   "cell_type": "code",
   "execution_count": null,
   "id": "84064be4",
   "metadata": {},
   "outputs": [],
   "source": [
    "cats.categories"
   ]
  },
  {
   "cell_type": "code",
   "execution_count": null,
   "id": "1df7b932",
   "metadata": {},
   "outputs": [],
   "source": [
    "groups = ['youth', 'young adult', 'middle aged', 'senior']"
   ]
  },
  {
   "cell_type": "code",
   "execution_count": null,
   "id": "3bb73143",
   "metadata": {},
   "outputs": [],
   "source": [
    "cats = pd.cut(ages, bins, labels=groups)\n",
    "cats"
   ]
  },
  {
   "cell_type": "code",
   "execution_count": null,
   "id": "26529201",
   "metadata": {},
   "outputs": [],
   "source": []
  },
  {
   "cell_type": "code",
   "execution_count": null,
   "id": "ca241643",
   "metadata": {},
   "outputs": [],
   "source": [
    "data = np.random.randn(1000)"
   ]
  },
  {
   "cell_type": "code",
   "execution_count": null,
   "id": "1f2a5c0d",
   "metadata": {},
   "outputs": [],
   "source": [
    "min(data)"
   ]
  },
  {
   "cell_type": "code",
   "execution_count": null,
   "id": "59b9c65f",
   "metadata": {},
   "outputs": [],
   "source": [
    "max(data)"
   ]
  },
  {
   "cell_type": "code",
   "execution_count": null,
   "id": "634c7a67",
   "metadata": {},
   "outputs": [],
   "source": [
    "cats = pd.qcut(data, 4)\n",
    "cats"
   ]
  },
  {
   "cell_type": "code",
   "execution_count": null,
   "id": "b292c4ca",
   "metadata": {},
   "outputs": [],
   "source": [
    "pd.value_counts(cats)"
   ]
  },
  {
   "cell_type": "code",
   "execution_count": null,
   "id": "b8723568",
   "metadata": {},
   "outputs": [],
   "source": [
    "cats = pd.qcut(data, 10)\n",
    "pd.value_counts(cats)"
   ]
  },
  {
   "cell_type": "markdown",
   "id": "a3942a7f",
   "metadata": {},
   "source": [
    "### 6. Outliers"
   ]
  },
  {
   "cell_type": "code",
   "execution_count": null,
   "id": "1f1ae767",
   "metadata": {},
   "outputs": [],
   "source": [
    "data = pd.DataFrame(np.random.randn(1000, 4))\n",
    "data.describe()"
   ]
  },
  {
   "cell_type": "code",
   "execution_count": null,
   "id": "e13cda88",
   "metadata": {},
   "outputs": [],
   "source": [
    "data.head()"
   ]
  },
  {
   "cell_type": "code",
   "execution_count": null,
   "id": "daeb88dd",
   "metadata": {},
   "outputs": [],
   "source": [
    "col = data[2]\n",
    "col"
   ]
  },
  {
   "cell_type": "code",
   "execution_count": null,
   "id": "54b56110",
   "metadata": {},
   "outputs": [],
   "source": [
    "min(col)"
   ]
  },
  {
   "cell_type": "code",
   "execution_count": null,
   "id": "62cec2d1",
   "metadata": {},
   "outputs": [],
   "source": [
    "max(col)"
   ]
  },
  {
   "cell_type": "code",
   "execution_count": null,
   "id": "cf847c43",
   "metadata": {},
   "outputs": [],
   "source": [
    "(0.689721 - (-0.682376)) * 1.5 # Outlier values for column 2"
   ]
  },
  {
   "cell_type": "code",
   "execution_count": null,
   "id": "9a7e6a2f",
   "metadata": {},
   "outputs": [],
   "source": [
    "data[data[2] > 2.05]"
   ]
  },
  {
   "cell_type": "code",
   "execution_count": null,
   "id": "e5f14d23",
   "metadata": {},
   "outputs": [],
   "source": [
    "data[data[2] > 2.05].index"
   ]
  },
  {
   "cell_type": "code",
   "execution_count": null,
   "id": "b7902514",
   "metadata": {},
   "outputs": [],
   "source": [
    "data.drop(data[data[2] > 2.05].index)"
   ]
  },
  {
   "cell_type": "code",
   "execution_count": null,
   "id": "780bf364",
   "metadata": {},
   "outputs": [],
   "source": [
    "data.boxplot()"
   ]
  },
  {
   "cell_type": "code",
   "execution_count": null,
   "id": "52798a8e",
   "metadata": {},
   "outputs": [],
   "source": []
  }
 ],
 "metadata": {
  "kernelspec": {
   "display_name": "Python 3 (ipykernel)",
   "language": "python",
   "name": "python3"
  },
  "language_info": {
   "codemirror_mode": {
    "name": "ipython",
    "version": 3
   },
   "file_extension": ".py",
   "mimetype": "text/x-python",
   "name": "python",
   "nbconvert_exporter": "python",
   "pygments_lexer": "ipython3",
   "version": "3.9.12"
  }
 },
 "nbformat": 4,
 "nbformat_minor": 5
}
