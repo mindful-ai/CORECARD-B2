{
 "cells": [
  {
   "cell_type": "code",
   "execution_count": null,
   "id": "107dccf2",
   "metadata": {},
   "outputs": [],
   "source": [
    "import pandas as pd\n",
    "import numpy as np"
   ]
  },
  {
   "cell_type": "markdown",
   "id": "038ca91c",
   "metadata": {},
   "source": [
    "### 1. Pandas Series"
   ]
  },
  {
   "cell_type": "code",
   "execution_count": null,
   "id": "f84a426d",
   "metadata": {},
   "outputs": [],
   "source": [
    "labels = ['a', 'b', 'c']\n",
    "my_list = [10, 20, 30]\n",
    "arr = np.array([10, 20, 30])\n",
    "d = {'a':10, 'b':20, 'c':30}"
   ]
  },
  {
   "cell_type": "code",
   "execution_count": null,
   "id": "2f7a5b1b",
   "metadata": {},
   "outputs": [],
   "source": [
    "pd.Series(data=my_list)"
   ]
  },
  {
   "cell_type": "code",
   "execution_count": null,
   "id": "1c10496b",
   "metadata": {},
   "outputs": [],
   "source": [
    "pd.Series(data=my_list, index=labels)"
   ]
  },
  {
   "cell_type": "code",
   "execution_count": null,
   "id": "2197194d",
   "metadata": {},
   "outputs": [],
   "source": [
    "pd.Series(arr, labels)"
   ]
  },
  {
   "cell_type": "code",
   "execution_count": null,
   "id": "ffcf97f1",
   "metadata": {},
   "outputs": [],
   "source": [
    "pd.Series([len, sum, max])"
   ]
  },
  {
   "cell_type": "code",
   "execution_count": null,
   "id": "ac8311ae",
   "metadata": {},
   "outputs": [],
   "source": [
    "s1 = pd.Series([1, 2, 3, 4], index=['USA', 'Germany', 'USSR', 'India'])\n",
    "s2 = pd.Series([1, 2, 4, 6], index=['USA', 'Germany', 'Italy', 'India'])"
   ]
  },
  {
   "cell_type": "code",
   "execution_count": null,
   "id": "e8dae09f",
   "metadata": {},
   "outputs": [],
   "source": [
    "s1"
   ]
  },
  {
   "cell_type": "code",
   "execution_count": null,
   "id": "61a8d784",
   "metadata": {},
   "outputs": [],
   "source": [
    "s2"
   ]
  },
  {
   "cell_type": "code",
   "execution_count": null,
   "id": "63a30e6c",
   "metadata": {},
   "outputs": [],
   "source": [
    "s1 + s2"
   ]
  },
  {
   "cell_type": "code",
   "execution_count": null,
   "id": "860f00b5",
   "metadata": {},
   "outputs": [],
   "source": [
    "s1['USA'] + s2['Italy']"
   ]
  },
  {
   "cell_type": "markdown",
   "id": "ca33366d",
   "metadata": {},
   "source": [
    "### 2. Pandas DataFrame"
   ]
  },
  {
   "cell_type": "code",
   "execution_count": null,
   "id": "5d047d58",
   "metadata": {},
   "outputs": [],
   "source": [
    "from numpy.random import randn\n",
    "randn(5, 4)"
   ]
  },
  {
   "cell_type": "code",
   "execution_count": null,
   "id": "efa4fc92",
   "metadata": {},
   "outputs": [],
   "source": [
    "df = pd.DataFrame(randn(5, 4), index='A B C D E'.split(), columns='W X Y Z'.split())\n",
    "df"
   ]
  },
  {
   "cell_type": "markdown",
   "id": "713825ca",
   "metadata": {},
   "source": [
    "##### Selecting Columns"
   ]
  },
  {
   "cell_type": "code",
   "execution_count": null,
   "id": "ef017e11",
   "metadata": {},
   "outputs": [],
   "source": [
    "df[['W', 'Y']]"
   ]
  },
  {
   "cell_type": "code",
   "execution_count": null,
   "id": "8bb4302e",
   "metadata": {},
   "outputs": [],
   "source": [
    "df[['W', 'Y']].loc[['C', 'D']]"
   ]
  },
  {
   "cell_type": "markdown",
   "id": "d36f8f14",
   "metadata": {},
   "source": [
    "##### Creating a columns"
   ]
  },
  {
   "cell_type": "code",
   "execution_count": null,
   "id": "6b22c2fc",
   "metadata": {},
   "outputs": [],
   "source": [
    "df['new'] = df['W'] + df['Y']\n",
    "df"
   ]
  },
  {
   "cell_type": "markdown",
   "id": "17cd3e82",
   "metadata": {},
   "source": [
    "##### Removing a column"
   ]
  },
  {
   "cell_type": "code",
   "execution_count": null,
   "id": "0df60265",
   "metadata": {},
   "outputs": [],
   "source": [
    "df.drop('new', axis=1, inplace=True)\n",
    "df"
   ]
  },
  {
   "cell_type": "markdown",
   "id": "13e10d54",
   "metadata": {},
   "source": [
    "##### Selecting Rows"
   ]
  },
  {
   "cell_type": "code",
   "execution_count": null,
   "id": "cc78a204",
   "metadata": {},
   "outputs": [],
   "source": [
    "df.loc['A']"
   ]
  },
  {
   "cell_type": "code",
   "execution_count": null,
   "id": "1edd5584",
   "metadata": {},
   "outputs": [],
   "source": [
    "df.loc[['B', 'C', 'E', 'A']]"
   ]
  },
  {
   "cell_type": "code",
   "execution_count": null,
   "id": "d964518c",
   "metadata": {},
   "outputs": [],
   "source": [
    "df.loc[['A', 'B'], ['X', 'Y']]"
   ]
  },
  {
   "cell_type": "code",
   "execution_count": null,
   "id": "33af03d7",
   "metadata": {},
   "outputs": [],
   "source": [
    "df.loc['C', 'Z']"
   ]
  },
  {
   "cell_type": "code",
   "execution_count": null,
   "id": "e2cf7f2b",
   "metadata": {},
   "outputs": [],
   "source": [
    "df.iloc[[1, 2, 3]]"
   ]
  },
  {
   "cell_type": "code",
   "execution_count": null,
   "id": "2eaa254a",
   "metadata": {},
   "outputs": [],
   "source": [
    "df.iloc[[1, 2, 3], [0, 2]]"
   ]
  },
  {
   "cell_type": "markdown",
   "id": "dcfe4705",
   "metadata": {},
   "source": [
    "#### Conditional Selection"
   ]
  },
  {
   "cell_type": "code",
   "execution_count": null,
   "id": "62569e01",
   "metadata": {},
   "outputs": [],
   "source": [
    "df"
   ]
  },
  {
   "cell_type": "code",
   "execution_count": null,
   "id": "61b50959",
   "metadata": {},
   "outputs": [],
   "source": [
    "df > 0"
   ]
  },
  {
   "cell_type": "code",
   "execution_count": null,
   "id": "78877ea0",
   "metadata": {},
   "outputs": [],
   "source": [
    "df[df > 0]"
   ]
  },
  {
   "cell_type": "code",
   "execution_count": null,
   "id": "206c5b34",
   "metadata": {},
   "outputs": [],
   "source": [
    "df[df['W'] > 0]"
   ]
  },
  {
   "cell_type": "code",
   "execution_count": null,
   "id": "696cf726",
   "metadata": {},
   "outputs": [],
   "source": [
    "df[df['W'] > 0][['X', 'Y']]"
   ]
  },
  {
   "cell_type": "code",
   "execution_count": null,
   "id": "ee242b2a",
   "metadata": {},
   "outputs": [],
   "source": [
    "df[(df['W'] > 0) & (df['Z'] < -1)]"
   ]
  },
  {
   "cell_type": "markdown",
   "id": "2b6d8bda",
   "metadata": {},
   "source": [
    "#### Working with indexes"
   ]
  },
  {
   "cell_type": "code",
   "execution_count": null,
   "id": "b21ca7d4",
   "metadata": {},
   "outputs": [],
   "source": [
    "df"
   ]
  },
  {
   "cell_type": "code",
   "execution_count": null,
   "id": "2d607b05",
   "metadata": {},
   "outputs": [],
   "source": [
    "df.reset_index()"
   ]
  },
  {
   "cell_type": "code",
   "execution_count": null,
   "id": "0ac86edb",
   "metadata": {},
   "outputs": [],
   "source": [
    "newind = ['CA', 'TX', 'NY', 'OR', 'DW']\n",
    "df['states'] = newind\n",
    "df"
   ]
  },
  {
   "cell_type": "code",
   "execution_count": null,
   "id": "b0a3b03a",
   "metadata": {},
   "outputs": [],
   "source": [
    "df1 = df.set_index('states')"
   ]
  },
  {
   "cell_type": "code",
   "execution_count": null,
   "id": "3150f761",
   "metadata": {},
   "outputs": [],
   "source": [
    "df1.loc[['CA']]"
   ]
  },
  {
   "cell_type": "markdown",
   "id": "39767517",
   "metadata": {},
   "source": [
    "#### Creating hierarchical indexes"
   ]
  },
  {
   "cell_type": "code",
   "execution_count": null,
   "id": "14aaafb5",
   "metadata": {},
   "outputs": [],
   "source": [
    "outside = ['G1', 'G1', 'G1', 'G2', 'G2', 'G2']\n",
    "inside = [1, 2, 3, 1, 2, 3]\n",
    "hier_index = list(zip(outside, inside))\n",
    "hier_index"
   ]
  },
  {
   "cell_type": "code",
   "execution_count": null,
   "id": "83886399",
   "metadata": {},
   "outputs": [],
   "source": [
    "hier_index = pd.MultiIndex.from_tuples(hier_index)\n",
    "hier_index"
   ]
  },
  {
   "cell_type": "code",
   "execution_count": null,
   "id": "e983e31a",
   "metadata": {},
   "outputs": [],
   "source": [
    "df = pd.DataFrame(np.random.randn(6, 2), index=hier_index, columns=['A', 'B'])\n",
    "df"
   ]
  },
  {
   "cell_type": "code",
   "execution_count": null,
   "id": "9517a241",
   "metadata": {},
   "outputs": [],
   "source": [
    "df.loc['G1']"
   ]
  },
  {
   "cell_type": "code",
   "execution_count": null,
   "id": "673f5ddf",
   "metadata": {},
   "outputs": [],
   "source": [
    "df.loc['G1'].loc[[1, 2]]"
   ]
  },
  {
   "cell_type": "code",
   "execution_count": null,
   "id": "f6c1c228",
   "metadata": {},
   "outputs": [],
   "source": [
    "df.index.names"
   ]
  },
  {
   "cell_type": "code",
   "execution_count": null,
   "id": "77c22e82",
   "metadata": {},
   "outputs": [],
   "source": [
    "df.index.names = ['Groups', 'Topics']"
   ]
  },
  {
   "cell_type": "code",
   "execution_count": null,
   "id": "ce555bf3",
   "metadata": {},
   "outputs": [],
   "source": [
    "df"
   ]
  },
  {
   "cell_type": "code",
   "execution_count": null,
   "id": "615a2657",
   "metadata": {},
   "outputs": [],
   "source": [
    "df.xs('G1')"
   ]
  },
  {
   "cell_type": "code",
   "execution_count": null,
   "id": "94610334",
   "metadata": {},
   "outputs": [],
   "source": [
    "df.xs(('G1', 1))"
   ]
  },
  {
   "cell_type": "code",
   "execution_count": null,
   "id": "12350bad",
   "metadata": {},
   "outputs": [],
   "source": [
    "df.xs(1, level='Topics')"
   ]
  },
  {
   "cell_type": "code",
   "execution_count": null,
   "id": "0fce3f20",
   "metadata": {},
   "outputs": [],
   "source": []
  }
 ],
 "metadata": {
  "kernelspec": {
   "display_name": "Python 3 (ipykernel)",
   "language": "python",
   "name": "python3"
  },
  "language_info": {
   "codemirror_mode": {
    "name": "ipython",
    "version": 3
   },
   "file_extension": ".py",
   "mimetype": "text/x-python",
   "name": "python",
   "nbconvert_exporter": "python",
   "pygments_lexer": "ipython3",
   "version": "3.9.12"
  }
 },
 "nbformat": 4,
 "nbformat_minor": 5
}
